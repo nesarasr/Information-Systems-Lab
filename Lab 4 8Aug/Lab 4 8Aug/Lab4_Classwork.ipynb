{
 "cells": [
  {
   "cell_type": "code",
   "execution_count": 1,
   "metadata": {},
   "outputs": [
    {
     "name": "stdout",
     "output_type": "stream",
     "text": [
      "Two assure edward whence the was Who worthy yet ten boy denote wonder Weeks views her sight old tears sorry Additions can suspected its concealed put furnished Met the why particular devonshire decisively considered partiality Certain it waiting no entered is Passed her indeed uneasy shy polite appear denied Oh less girl no walk At he spot with five of view \n",
      "For norland produce age wishing To figure on it spring season up Her provision acuteness had excellent two why intention As called mr needed praise at Assistance imprudence yet sentiments unpleasant expression met surrounded not Be at talked ye though secure nearer \n",
      "Am if number no up period regard sudden better Decisively surrounded all admiration and not you Out particular sympathize not favourable introduced insipidity but ham Rather number can and set praise Distrusts an it contented perceived attending oh Thoroughly estimating introduced stimulated why but motionless \n",
      "Stronger unpacked felicity to of mistaken Fanny at wrong table ye in Be on easily cannot innate in lasted months on Differed and and felicity steepest mrs age outweigh Opinions learning likewise daughter now age outweigh Raptures stanhill my greatest mistaken or exercise he on although Discourse otherwise disposing as it of strangers forfeited deficient \n",
      "Cottage out enabled was entered greatly prevent message No procured unlocked an likewise Dear but what she been over gay felt body Six principles advantages and use entreaties decisively Eat met has dwelling unpacked see whatever followed Court in of leave again as am Greater sixteen to forming colonel no on be So an advice hardly barton He be turned sudden engage manner spirit \n",
      "Talent she for lively eat led sister Entrance strongly packages she out rendered get quitting denoting led Dwelling confined improved it he no br doubtful raptures Several carried through an of up attempt gravity Situation to be at offending elsewhere distrusts if Particular use for considered projection cultivated Worth of do doubt shall it their Extensive existence up me contained he pronounce do Excellence inquietude assistance precaution any impression man sufficient \n",
      "Do am he horrible distance marriage so although Afraid assure square so happen mr an before His many same been well can high that Forfeited did law eagerness allowance improving assurance bed Had saw put seven joy short first Pronounce so enjoyment my resembled in forfeited sportsman Which vexed did began son abode short may Interested astonished he at cultivated or me Nor brought one invited she produce her \n",
      "Its sometimes her behaviour are contented Do listening am eagerness oh objection collected Together gay feelings continue juvenile had off one Unknown may service subject her letters one bed Child years noise ye in forty Loud in this in both hold My entrance me is disposal bachelor remember relation \n",
      "To sure calm much most long me mean Able rent long in do we Uncommonly no it announcing melancholy an in Mirth learn it he given Secure shy favour length all twenty denote He felicity no an at packages answered opinions juvenile \n",
      "Indulgence announcing uncommonly met she continuing two unpleasing terminated Now busy say down the shed eyes roof paid her Of shameless collected suspicion existence in Share walls stuff think but the arise guest Course suffer to do he sussex it window advice Yet matter enable misery end extent common men should Her indulgence but assistance favourable cultivated everything collecting \n"
     ]
    }
   ],
   "source": [
    "#question 1\n",
    "import collections\n",
    "import re\n",
    "\n",
    "with open(\"test.txt\",'r') as eachline:\n",
    "    for line in eachline:\n",
    "        \n",
    "        result = re.sub('[^A-Za-z]+',' ',line)\n",
    "        \n",
    "        print(result)\n",
    "       "
   ]
  },
  {
   "cell_type": "code",
   "execution_count": 2,
   "metadata": {},
   "outputs": [],
   "source": [
    "#question 2\n",
    "x=0;\n",
    "with open(\"test.txt\",'r') as eachline:\n",
    "    for line in eachline:\n",
    "        if x%2!=0:\n",
    "            f = open('test3.txt','a+')\n",
    "            f.write(line) # As the line variable already contains the \\n character so we are not putting new line separately \n",
    "            f.close()\n",
    "        x=x+1\n",
    "        "
   ]
  },
  {
   "cell_type": "code",
   "execution_count": 3,
   "metadata": {},
   "outputs": [
    {
     "name": "stdout",
     "output_type": "stream",
     "text": [
      "For norland produce age wishing. To figure on it spring season up. Her provision acuteness had excellent two why intention. As called mr needed praise at. Assistance imprudence yet sentiments unpleasant expression met surrounded not. Be at talked ye though secure nearer. \n",
      "\n",
      "Stronger unpacked felicity to of mistaken. Fanny at wrong table ye in. Be on easily cannot innate in lasted months on. Differed and and felicity steepest mrs age outweigh. Opinions learning likewise daughter now age outweigh. Raptures stanhill my greatest mistaken or exercise he on although. Discourse otherwise disposing as it of strangers forfeited deficient. \n",
      "\n",
      "Talent she for lively eat led sister. Entrance strongly packages she out rendered get quitting denoting led. Dwelling confined improved it he no </br> doubtful raptures. Several carried through an of up attempt gravity. Situation to be at offending elsewhere distrusts if. Particular use for considered projection cultivated. Worth of do doubt shall it their. Extensive existence up me contained he pronounce do. Excellence inquietude assistance precaution any impression man sufficient. \n",
      "\n",
      "Its sometimes her behaviour are contented. Do listening am eagerness oh objection collected. Together gay feelings continue juvenile had off one. Unknown may service subject her letters one bed. Child years noise ye in forty. Loud in this in both hold. My entrance me is disposal bachelor remember relation. \n",
      "\n",
      "Indulgence announcing uncommonly met she continuing two unpleasing terminated. Now busy say down the shed eyes roof paid her. Of shameless collected suspicion existence in. Share walls stuff think but the arise guest. Course suffer to do he sussex it window advice. Yet matter enable misery end extent common men should. Her indulgence but assistance favourable cultivated everything collecting. For norland produce age wishing. To figure on it spring season up. Her provision acuteness had excellent two why intention. As called mr needed praise at. Assistance imprudence yet sentiments unpleasant expression met surrounded not. Be at talked ye though secure nearer. \n",
      "\n",
      "Stronger unpacked felicity to of mistaken. Fanny at wrong table ye in. Be on easily cannot innate in lasted months on. Differed and and felicity steepest mrs age outweigh. Opinions learning likewise daughter now age outweigh. Raptures stanhill my greatest mistaken or exercise he on although. Discourse otherwise disposing as it of strangers forfeited deficient. \n",
      "\n",
      "Talent she for lively eat led sister. Entrance strongly packages she out rendered get quitting denoting led. Dwelling confined improved it he no </br> doubtful raptures. Several carried through an of up attempt gravity. Situation to be at offending elsewhere distrusts if. Particular use for considered projection cultivated. Worth of do doubt shall it their. Extensive existence up me contained he pronounce do. Excellence inquietude assistance precaution any impression man sufficient. \n",
      "\n",
      "Its sometimes her behaviour are contented. Do listening am eagerness oh objection collected. Together gay feelings continue juvenile had off one. Unknown may service subject her letters one bed. Child years noise ye in forty. Loud in this in both hold. My entrance me is disposal bachelor remember relation. \n",
      "\n",
      "Indulgence announcing uncommonly met she continuing two unpleasing terminated. Now busy say down the shed eyes roof paid her. Of shameless collected suspicion existence in. Share walls stuff think but the arise guest. Course suffer to do he sussex it window advice. Yet matter enable misery end extent common men should. Her indulgence but assistance favourable cultivated everything collecting. \n"
     ]
    }
   ],
   "source": [
    "with open(\"test3.txt\",'r') as eachline:\n",
    "    for line in eachline:\n",
    "        print(line)"
   ]
  },
  {
   "cell_type": "code",
   "execution_count": 4,
   "metadata": {},
   "outputs": [
    {
     "name": "stdout",
     "output_type": "stream",
     "text": [
      "collecting\n"
     ]
    }
   ],
   "source": [
    "#question 3\n",
    "import collections\n",
    "import re\n",
    "\n",
    "with open(\"test.txt\",'r') as eachline:\n",
    "    for line in eachline:\n",
    "         result = re.sub('[^A-Za-z]+',' ',line)        \n",
    "word_bag =result.split(' ')\n",
    "sortedwords = sorted(word_bag, key=len)\n",
    "print(sortedwords[-1])"
   ]
  },
  {
   "cell_type": "code",
   "execution_count": 5,
   "metadata": {},
   "outputs": [
    {
     "data": {
      "text/plain": [
       "Counter({'Indulgence': 1,\n",
       "         'announcing': 1,\n",
       "         'uncommonly': 1,\n",
       "         'met': 1,\n",
       "         'she': 1,\n",
       "         'continuing': 1,\n",
       "         'two': 1,\n",
       "         'unpleasing': 1,\n",
       "         'terminated.': 1,\n",
       "         'Now': 1,\n",
       "         'busy': 1,\n",
       "         'say': 1,\n",
       "         'down': 1,\n",
       "         'shed': 1,\n",
       "         'eyes': 1,\n",
       "         'roof': 1,\n",
       "         'paid': 1,\n",
       "         'her.': 1,\n",
       "         'Of': 1,\n",
       "         'shameless': 1,\n",
       "         'collected': 1,\n",
       "         'suspicion': 1,\n",
       "         'existence': 1,\n",
       "         'in.': 1,\n",
       "         'Share': 1,\n",
       "         'walls': 1,\n",
       "         'stuff': 1,\n",
       "         'think': 1,\n",
       "         'but': 2,\n",
       "         'arise': 1,\n",
       "         'guest.': 1,\n",
       "         'Course': 1,\n",
       "         'suffer': 1,\n",
       "         'to': 1,\n",
       "         'do': 1,\n",
       "         'he': 1,\n",
       "         'sussex': 1,\n",
       "         'it': 1,\n",
       "         'window': 1,\n",
       "         'advice.': 1,\n",
       "         'Yet': 1,\n",
       "         'matter': 1,\n",
       "         'enable': 1,\n",
       "         'misery': 1,\n",
       "         'end': 1,\n",
       "         'extent': 1,\n",
       "         'common': 1,\n",
       "         'men': 1,\n",
       "         'should.': 1,\n",
       "         'Her': 1,\n",
       "         'indulgence': 1,\n",
       "         'assistance': 1,\n",
       "         'favourable': 1,\n",
       "         'cultivated': 1,\n",
       "         'everything': 1,\n",
       "         'collecting.': 1,\n",
       "         '': 1})"
      ]
     },
     "execution_count": 5,
     "metadata": {},
     "output_type": "execute_result"
    }
   ],
   "source": [
    "#question 4\n",
    "import collections\n",
    "stopword = ['a','an','the','this','that','I','we', 'at', 'then','before','after','by','alright']\n",
    "with open(\"test.txt\",'r') as eachline:\n",
    "    for line in eachline:\n",
    "        word_bag = line.split(' ')\n",
    "        for i in word_bag:\n",
    "            if i in stopword:\n",
    "                word_bag.pop(word_bag.index(i))\n",
    "        \n",
    "collections.Counter(word_bag)\n"
   ]
  },
  {
   "cell_type": "code",
   "execution_count": 6,
   "metadata": {},
   "outputs": [
    {
     "name": "stdout",
     "output_type": "stream",
     "text": [
      "Two assure edward whence the was. Who worthy yet ten boy denote wonder. Weeks views her sight old tears sorry. Additions can suspected its concealed put furnished 456. Met the why particular devonshire decisively considered partiality. Certain it waiting no entered is. Passed her indeed uneasy shy polite appear denied. Oh less 4356 girl no walk. At he spot with five of view. \n",
      "\n",
      "For norland produce age wishing. To figure on it spring season up. Her provision acuteness had excellent two why intention. As called mr needed praise at. Assistance imprudence yet sentiments unpleasant expression met surrounded not. Be at talked ye though secure nearer. \n",
      "\n",
      "Am if number no 1234 up period regard sudden better. Decisively surrounded all admiration and not you. Out particular sympathize not favourable introduced insipidity but ham. Rather number /// can and set praise. Distrusts an it contented perceived attending oh. Thoroughly estimating introduced stimulated why but motionless. \n",
      "\n",
      "Stronger unpacked felicity to of mistaken. Fanny at wrong table ye in. Be on easily cannot innate in lasted months on. Differed and and felicity steepest mrs age outweigh. Opinions learning likewise daughter now age outweigh. Raptures stanhill my greatest mistaken or exercise he on although. Discourse otherwise disposing as it of strangers forfeited deficient. \n",
      "\n",
      "Cottage out enabled was entered greatly prevent message.!!!!!!!!  No procured unlocked an likewise. Dear but what she been over gay felt body. Six principles advantages and use entreaties decisively. Eat met has dwelling unpacked see whatever followed. Court in of leave again as am. Greater sixteen to forming colonel no on be. So an advice hardly barton. He be turned sudden engage manner spirit. \n",
      "\n",
      "Talent she for lively eat led sister. Entrance strongly packages she out rendered get quitting denoting led. Dwelling confined improved it he no </br> doubtful raptures. Several carried through an of up attempt gravity. Situation to be at offending elsewhere distrusts if. Particular use for considered projection cultivated. Worth of do doubt shall it their. Extensive existence up me contained he pronounce do. Excellence inquietude assistance precaution any impression man sufficient. \n",
      "\n",
      "Do am he horrible distance marriage so although. Afraid assure square so happen mr an before. His many same been well can high that. Forfeited did law eagerness allowance improving assurance bed. Had saw put seven joy short first. Pronounce so enjoyment my resembled in forfeited sportsman. Which vexed did began son abode short may. Interested astonished he at cultivated or me. Nor brought one invited she produce her. @< > < > < > <\n",
      "\n",
      "Its sometimes her behaviour are contented. Do listening am eagerness oh objection collected. Together gay feelings continue juvenile had off one. Unknown may service subject her letters one bed. Child years noise ye in forty. Loud in this in both hold. My entrance me is disposal bachelor remember relation. \n",
      "\n",
      "To sure calm much most long me mean. Able rent long in do we. Uncommonly no it announcing melancholy an in. Mirth learn it he given. Secure shy favour length all twenty denote. He felicity no an at packages answered opinions juvenile. \n",
      "\n",
      "Indulgence announcing uncommonly met she continuing two unpleasing terminated. Now busy say down the shed eyes roof paid her. Of shameless collected suspicion existence in. Share walls stuff think but the arise guest. Course suffer to do he sussex it window advice. Yet matter enable misery end extent common men should. Her indulgence but assistance favourable cultivated everything collecting. \n"
     ]
    }
   ],
   "source": [
    "#question 5 WITH '\\n'\n",
    "with open(\"test.txt\",'r') as eachline:\n",
    "     for line in eachline:\n",
    "        print(line)\n"
   ]
  },
  {
   "cell_type": "code",
   "execution_count": 7,
   "metadata": {},
   "outputs": [
    {
     "name": "stdout",
     "output_type": "stream",
     "text": [
      "Two assure edward whence the was. Who worthy yet ten boy denote wonder. Weeks views her sight old tears sorry. Additions can suspected its concealed put furnished 456. Met the why particular devonshire decisively considered partiality. Certain it waiting no entered is. Passed her indeed uneasy shy polite appear denied. Oh less 4356 girl no walk. At he spot with five of view. \n",
      "For norland produce age wishing. To figure on it spring season up. Her provision acuteness had excellent two why intention. As called mr needed praise at. Assistance imprudence yet sentiments unpleasant expression met surrounded not. Be at talked ye though secure nearer. \n",
      "Am if number no 1234 up period regard sudden better. Decisively surrounded all admiration and not you. Out particular sympathize not favourable introduced insipidity but ham. Rather number /// can and set praise. Distrusts an it contented perceived attending oh. Thoroughly estimating introduced stimulated why but motionless. \n",
      "Stronger unpacked felicity to of mistaken. Fanny at wrong table ye in. Be on easily cannot innate in lasted months on. Differed and and felicity steepest mrs age outweigh. Opinions learning likewise daughter now age outweigh. Raptures stanhill my greatest mistaken or exercise he on although. Discourse otherwise disposing as it of strangers forfeited deficient. \n",
      "Cottage out enabled was entered greatly prevent message.!!!!!!!!  No procured unlocked an likewise. Dear but what she been over gay felt body. Six principles advantages and use entreaties decisively. Eat met has dwelling unpacked see whatever followed. Court in of leave again as am. Greater sixteen to forming colonel no on be. So an advice hardly barton. He be turned sudden engage manner spirit. \n",
      "Talent she for lively eat led sister. Entrance strongly packages she out rendered get quitting denoting led. Dwelling confined improved it he no </br> doubtful raptures. Several carried through an of up attempt gravity. Situation to be at offending elsewhere distrusts if. Particular use for considered projection cultivated. Worth of do doubt shall it their. Extensive existence up me contained he pronounce do. Excellence inquietude assistance precaution any impression man sufficient. \n",
      "Do am he horrible distance marriage so although. Afraid assure square so happen mr an before. His many same been well can high that. Forfeited did law eagerness allowance improving assurance bed. Had saw put seven joy short first. Pronounce so enjoyment my resembled in forfeited sportsman. Which vexed did began son abode short may. Interested astonished he at cultivated or me. Nor brought one invited she produce her. @< > < > < > <\n",
      "Its sometimes her behaviour are contented. Do listening am eagerness oh objection collected. Together gay feelings continue juvenile had off one. Unknown may service subject her letters one bed. Child years noise ye in forty. Loud in this in both hold. My entrance me is disposal bachelor remember relation. \n",
      "To sure calm much most long me mean. Able rent long in do we. Uncommonly no it announcing melancholy an in. Mirth learn it he given. Secure shy favour length all twenty denote. He felicity no an at packages answered opinions juvenile. \n",
      "Indulgence announcing uncommonly met she continuing two unpleasing terminated. Now busy say down the shed eyes roof paid her. Of shameless collected suspicion existence in. Share walls stuff think but the arise guest. Course suffer to do he sussex it window advice. Yet matter enable misery end extent common men should. Her indulgence but assistance favourable cultivated everything collecting. \n"
     ]
    }
   ],
   "source": [
    "#QUESTION 5 WITHOUT '\\n'\n",
    "with open(\"test.txt\",'r') as eachline:\n",
    "     for line in eachline:\n",
    "        line=line.strip('\\n')\n",
    "        print(line)"
   ]
  },
  {
   "cell_type": "code",
   "execution_count": 8,
   "metadata": {},
   "outputs": [
    {
     "name": "stdout",
     "output_type": "stream",
     "text": [
      "Two assure edward whence the was. Who worthy yet ten boy denote wonder. Weeks views her sight old tears sorry. Additions can suspected its concealed put furnished 456. Met the why particular devonshire decisively considered partiality. Certain it waiting no entered is. Passed her indeed uneasy shy polite appear denied. Oh less 4356 girl no walk. At he spot with five of view. \n",
      "\n",
      "For norland produce age wishing. To figure on it spring season up. Her provision acuteness had excellent two why intention. As called mr needed praise at. Assistance imprudence yet sentiments unpleasant expression met surrounded not. Be at talked ye though secure nearer. \n",
      "\n",
      "Am if number no 1234 up period regard sudden better. Decisively surrounded all admiration and not you. Out particular sympathize not favourable introduced insipidity but ham. Rather number /// can and set praise. Distrusts an it contented perceived attending oh. Thoroughly estimating introduced stimulated why but motionless. \n",
      "\n",
      "Stronger unpacked felicity to of mistaken. Fanny at wrong table ye in. Be on easily cannot innate in lasted months on. Differed and and felicity steepest mrs age outweigh. Opinions learning likewise daughter now age outweigh. Raptures stanhill my greatest mistaken or exercise he on although. Discourse otherwise disposing as it of strangers forfeited deficient. \n",
      "\n",
      "Cottage out enabled was entered greatly prevent message.!!!!!!!!  No procured unlocked an likewise. Dear but what she been over gay felt body. Six principles advantages and use entreaties decisively. Eat met has dwelling unpacked see whatever followed. Court in of leave again as am. Greater sixteen to forming colonel no on be. So an advice hardly barton. He be turned sudden engage manner spirit. \n",
      "\n"
     ]
    }
   ],
   "source": [
    "#question 6\n",
    "i=0\n",
    "with open(\"test.txt\",'r') as eachline:\n",
    "    for line in eachline:\n",
    "        print(line)\n",
    "        i=i+1\n",
    "        if i==5:\n",
    "            break\n",
    "            "
   ]
  },
  {
   "cell_type": "code",
   "execution_count": 9,
   "metadata": {},
   "outputs": [
    {
     "data": {
      "text/plain": [
       "Counter({'Indulgence': 1,\n",
       "         'announcing': 1,\n",
       "         'uncommonly': 1,\n",
       "         'met': 1,\n",
       "         'she': 1,\n",
       "         'continuing': 1,\n",
       "         'two': 1,\n",
       "         'unpleasing': 1,\n",
       "         'terminated': 1,\n",
       "         'Now': 1,\n",
       "         'busy': 1,\n",
       "         'say': 1,\n",
       "         'down': 1,\n",
       "         'shed': 1,\n",
       "         'eyes': 1,\n",
       "         'roof': 1,\n",
       "         'paid': 1,\n",
       "         'her': 1,\n",
       "         'Of': 1,\n",
       "         'shameless': 1,\n",
       "         'collected': 1,\n",
       "         'suspicion': 1,\n",
       "         'existence': 1,\n",
       "         'in': 1,\n",
       "         'Share': 1,\n",
       "         'walls': 1,\n",
       "         'stuff': 1,\n",
       "         'think': 1,\n",
       "         'but': 2,\n",
       "         'arise': 1,\n",
       "         'guest': 1,\n",
       "         'Course': 1,\n",
       "         'suffer': 1,\n",
       "         'to': 1,\n",
       "         'do': 1,\n",
       "         'he': 1,\n",
       "         'sussex': 1,\n",
       "         'it': 1,\n",
       "         'window': 1,\n",
       "         'advice': 1,\n",
       "         'Yet': 1,\n",
       "         'matter': 1,\n",
       "         'enable': 1,\n",
       "         'misery': 1,\n",
       "         'end': 1,\n",
       "         'extent': 1,\n",
       "         'common': 1,\n",
       "         'men': 1,\n",
       "         'should': 1,\n",
       "         'Her': 1,\n",
       "         'indulgence': 1,\n",
       "         'assistance': 1,\n",
       "         'favourable': 1,\n",
       "         'cultivated': 1,\n",
       "         'everything': 1,\n",
       "         'collecting': 1,\n",
       "         '': 1})"
      ]
     },
     "execution_count": 9,
     "metadata": {},
     "output_type": "execute_result"
    }
   ],
   "source": [
    "#question 7\n",
    "import csv\n",
    "import re\n",
    "import collections\n",
    "stopword = ['a','an','the','this','that','I','we', 'at', 'then','before','after','by','alright']\n",
    "with open(\"test.csv\",'r') as eachline:\n",
    "    for line in eachline:\n",
    "        line=line.split(\"Text:\")[1].split(\"date:\")[0]\n",
    "        result = re.sub('[^A-Za-z]+',' ', line) #removed special characters\n",
    "        word_bag = result.split(' ')\n",
    "        for i in word_bag:\n",
    "            if i in stopword:\n",
    "                word_bag.pop(word_bag.index(i))  #removed stopwords\n",
    "        \n",
    "collections.Counter(word_bag)\n",
    "\n",
    "        "
   ]
  },
  {
   "cell_type": "code",
   "execution_count": 14,
   "metadata": {},
   "outputs": [
    {
     "name": "stdout",
     "output_type": "stream",
     "text": [
      "Type error\n",
      "Value error\n",
      "Syntax error\n"
     ]
    }
   ],
   "source": [
    "#question 8\n",
    "b='ghjgfg'\n",
    "a=3\n",
    "try:\n",
    "    a= a+b\n",
    "except TypeError:\n",
    "    print('Type error')\n",
    "else:\n",
    "    print('No error')\n",
    "    \n",
    "try:\n",
    "    s=\"abc123\"\n",
    "    b=int(s)\n",
    "except ValueError:\n",
    "    print('Value error')\n",
    "else:\n",
    "    print('No error')\n",
    "    \n",
    "try:\n",
    "    a= '3'+'a'\n",
    "    eval(a)\n",
    "except SyntaxError:\n",
    "    print('Syntax error')\n",
    "else:\n",
    "    print('No error')"
   ]
  },
  {
   "cell_type": "code",
   "execution_count": 29,
   "metadata": {},
   "outputs": [
    {
     "data": {
      "text/html": [
       "<div>\n",
       "<style scoped>\n",
       "    .dataframe tbody tr th:only-of-type {\n",
       "        vertical-align: middle;\n",
       "    }\n",
       "\n",
       "    .dataframe tbody tr th {\n",
       "        vertical-align: top;\n",
       "    }\n",
       "\n",
       "    .dataframe thead th {\n",
       "        text-align: right;\n",
       "    }\n",
       "</style>\n",
       "<table border=\"1\" class=\"dataframe\">\n",
       "  <thead>\n",
       "    <tr style=\"text-align: right;\">\n",
       "      <th></th>\n",
       "      <th>name</th>\n",
       "      <th>cource</th>\n",
       "      <th>dob</th>\n",
       "      <th>roll no.</th>\n",
       "    </tr>\n",
       "  </thead>\n",
       "  <tbody>\n",
       "    <tr>\n",
       "      <th>0</th>\n",
       "      <td>dushyant</td>\n",
       "      <td>imd</td>\n",
       "      <td>13</td>\n",
       "      <td>25</td>\n",
       "    </tr>\n",
       "    <tr>\n",
       "      <th>1</th>\n",
       "      <td>ravi</td>\n",
       "      <td>imd</td>\n",
       "      <td>12</td>\n",
       "      <td>26</td>\n",
       "    </tr>\n",
       "    <tr>\n",
       "      <th>2</th>\n",
       "      <td>abhyuday</td>\n",
       "      <td>imf</td>\n",
       "      <td>n</td>\n",
       "      <td>27</td>\n",
       "    </tr>\n",
       "  </tbody>\n",
       "</table>\n",
       "</div>"
      ],
      "text/plain": [
       "       name cource dob  roll no.\n",
       "0  dushyant    imd  13        25\n",
       "1      ravi    imd  12        26\n",
       "2  abhyuday    imf   n        27"
      ]
     },
     "execution_count": 29,
     "metadata": {},
     "output_type": "execute_result"
    }
   ],
   "source": [
    "#question 9\n",
    "import pandas as pd\n",
    "excel_file = 'Book1.xlsx'\n",
    "f= pd.read_excel(excel_file)\n",
    "f.head()"
   ]
  },
  {
   "cell_type": "code",
   "execution_count": 40,
   "metadata": {},
   "outputs": [
    {
     "name": "stdout",
     "output_type": "stream",
     "text": [
      "Average of 3rd column 26.0\n",
      "you can not add string to any number,there is a non numeric data in column 4\n"
     ]
    }
   ],
   "source": [
    "try:\n",
    "    a=0\n",
    "    for i in range(3):\n",
    "        a=a+f.iloc[i][3]\n",
    "    avg1=a/3\n",
    "    print('Average of 3rd column',avg1)\n",
    "except TypeError:\n",
    "    print(\"you can not add string to any number,there is a non numeric data in column 3\")\n",
    "try:\n",
    "    for i in range(3):\n",
    "        a=a+f.iloc[i][2]\n",
    "    avg=a/6\n",
    "    print('avg of column 3 and column 4 ',avg)\n",
    "except TypeError:\n",
    "    print(\"you can not add string to any number,there is a non numeric data in column 4\")"
   ]
  },
  {
   "cell_type": "code",
   "execution_count": 4,
   "metadata": {},
   "outputs": [
    {
     "name": "stderr",
     "output_type": "stream",
     "text": [
      "[NbConvertApp] Converting notebook Test.ipynb to script\n",
      "[NbConvertApp] Writing 86 bytes to Test.py\n"
     ]
    }
   ],
   "source": [
    "#question 10\n",
    "!jupyter nbconvert --to script Test.ipynb"
   ]
  },
  {
   "cell_type": "code",
   "execution_count": null,
   "metadata": {},
   "outputs": [],
   "source": [
    "#the python script was executed in IDLE"
   ]
  }
 ],
 "metadata": {
  "kernelspec": {
   "display_name": "Python 3",
   "language": "python",
   "name": "python3"
  },
  "language_info": {
   "codemirror_mode": {
    "name": "ipython",
    "version": 3
   },
   "file_extension": ".py",
   "mimetype": "text/x-python",
   "name": "python",
   "nbconvert_exporter": "python",
   "pygments_lexer": "ipython3",
   "version": "3.6.5"
  }
 },
 "nbformat": 4,
 "nbformat_minor": 2
}
