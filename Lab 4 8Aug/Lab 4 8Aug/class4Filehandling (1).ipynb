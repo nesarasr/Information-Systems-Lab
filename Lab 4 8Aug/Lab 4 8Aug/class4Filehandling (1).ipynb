{
 "cells": [
  {
   "cell_type": "markdown",
   "metadata": {},
   "source": [
    "## File Handling\n",
    "\n",
    "### The key function for working with files in Python is the open() function. The open() function takes two parameters; filename, and mode.\n",
    "\n",
    "### There are four different methods (modes) for opening a file:\n",
    "\n",
    "##### \"r\" - Read - Default value. Opens a file for reading, error if the file does not exist\n",
    "\n",
    "#####  \"a\" - Append - Opens a file for appending, creates the file if it does not exist\n",
    "\n",
    "##### \"w\" - Write - Opens a file for writing, creates the file if it does not exist\n",
    "\n",
    "##### \"x\" - Create - Creates the specified file, returns an error if the file exists\n",
    "\n",
    "#####  In addition you can specify if the file should be handled as binary or text mode\n",
    "\n",
    "#####  \"t\" - Text - Default value. Text mode\n",
    "\n",
    "#####  \"b\" - Binary - Binary mode (e.g. images)\n",
    "                                                                            \n",
    "###### source: w3school\n",
    "\n",
    "##### Read More: https://docs.python.org/3/tutorial/inputoutput.html"
   ]
  },
  {
   "cell_type": "code",
   "execution_count": null,
   "metadata": {},
   "outputs": [],
   "source": [
    "f = open(\"test.txt\",'r') "
   ]
  },
  {
   "cell_type": "code",
   "execution_count": null,
   "metadata": {
    "scrolled": true
   },
   "outputs": [],
   "source": [
    "print(f.read()) "
   ]
  },
  {
   "cell_type": "markdown",
   "metadata": {},
   "source": [
    "## Read each line of the file "
   ]
  },
  {
   "cell_type": "code",
   "execution_count": 7,
   "metadata": {
    "scrolled": true
   },
   "outputs": [
    {
     "data": {
      "text/plain": [
       "['Two assure edward whence the was. Who worthy yet ten boy denote wonder. Weeks views her sight old tears sorry. Additions can suspected its concealed put furnished 456. Met the why particular devonshire decisively considered partiality. Certain it waiting no entered is. Passed her indeed uneasy shy polite appear denied. Oh less 4356 girl no walk. At he spot with five of view. \\n',\n",
       " 'For norland produce age wishing. To figure on it spring season up. Her provision acuteness had excellent two why intention. As called mr needed praise at. Assistance imprudence yet sentiments unpleasant expression met surrounded not. Be at talked ye though secure nearer. \\n',\n",
       " 'Am if number no 1234 up period regard sudden better. Decisively surrounded all admiration and not you. Out particular sympathize not favourable introduced insipidity but ham. Rather number /// can and set praise. Distrusts an it contented perceived attending oh. Thoroughly estimating introduced stimulated why but motionless. \\n',\n",
       " 'Stronger unpacked felicity to of mistaken. Fanny at wrong table ye in. Be on easily cannot innate in lasted months on. Differed and and felicity steepest mrs age outweigh. Opinions learning likewise daughter now age outweigh. Raptures stanhill my greatest mistaken or exercise he on although. Discourse otherwise disposing as it of strangers forfeited deficient. \\n',\n",
       " 'Cottage out enabled was entered greatly prevent message.!!!!!!!!  No procured unlocked an likewise. Dear but what she been over gay felt body. Six principles advantages and use entreaties decisively. Eat met has dwelling unpacked see whatever followed. Court in of leave again as am. Greater sixteen to forming colonel no on be. So an advice hardly barton. He be turned sudden engage manner spirit. \\n',\n",
       " 'Talent she for lively eat led sister. Entrance strongly packages she out rendered get quitting denoting led. Dwelling confined improved it he no </br> doubtful raptures. Several carried through an of up attempt gravity. Situation to be at offending elsewhere distrusts if. Particular use for considered projection cultivated. Worth of do doubt shall it their. Extensive existence up me contained he pronounce do. Excellence inquietude assistance precaution any impression man sufficient. \\n',\n",
       " 'Do am he horrible distance marriage so although. Afraid assure square so happen mr an before. His many same been well can high that. Forfeited did law eagerness allowance improving assurance bed. Had saw put seven joy short first. Pronounce so enjoyment my resembled in forfeited sportsman. Which vexed did began son abode short may. Interested astonished he at cultivated or me. Nor brought one invited she produce her. @< > < > < > <\\n',\n",
       " 'Its sometimes her behaviour are contented. Do listening am eagerness oh objection collected. Together gay feelings continue juvenile had off one. Unknown may service subject her letters one bed. Child years noise ye in forty. Loud in this in both hold. My entrance me is disposal bachelor remember relation. \\n',\n",
       " 'To sure calm much most long me mean. Able rent long in do we. Uncommonly no it announcing melancholy an in. Mirth learn it he given. Secure shy favour length all twenty denote. He felicity no an at packages answered opinions juvenile. \\n',\n",
       " 'Indulgence announcing uncommonly met she continuing two unpleasing terminated. Now busy say down the shed eyes roof paid her. Of shameless collected suspicion existence in. Share walls stuff think but the arise guest. Course suffer to do he sussex it window advice. Yet matter enable misery end extent common men should. Her indulgence but assistance favourable cultivated everything collecting. ']"
      ]
     },
     "execution_count": 7,
     "metadata": {},
     "output_type": "execute_result"
    }
   ],
   "source": [
    "f = open(\"test.txt\",'r')\n",
    "f.readlines()\n"
   ]
  },
  {
   "cell_type": "markdown",
   "metadata": {},
   "source": [
    "## To take each line of a file as an input and Operate on them"
   ]
  },
  {
   "cell_type": "code",
   "execution_count": null,
   "metadata": {
    "scrolled": true
   },
   "outputs": [],
   "source": [
    "with open(\"test.txt\",'r') as eachline:\n",
    "    for line in eachline:\n",
    "        print(line)"
   ]
  },
  {
   "cell_type": "markdown",
   "metadata": {},
   "source": [
    "## Count total number of words in the first line of the file"
   ]
  },
  {
   "cell_type": "code",
   "execution_count": 5,
   "metadata": {
    "scrolled": true
   },
   "outputs": [
    {
     "data": {
      "text/plain": [
       "Counter({'Two': 1,\n",
       "         'assure': 1,\n",
       "         'edward': 1,\n",
       "         'whence': 1,\n",
       "         'the': 2,\n",
       "         'was.': 1,\n",
       "         'Who': 1,\n",
       "         'worthy': 1,\n",
       "         'yet': 1,\n",
       "         'ten': 1,\n",
       "         'boy': 1,\n",
       "         'denote': 1,\n",
       "         'wonder.': 1,\n",
       "         'Weeks': 1,\n",
       "         'views': 1,\n",
       "         'her': 2,\n",
       "         'sight': 1,\n",
       "         'old': 1,\n",
       "         'tears': 1,\n",
       "         'sorry.': 1,\n",
       "         'Additions': 1,\n",
       "         'can': 1,\n",
       "         'suspected': 1,\n",
       "         'its': 1,\n",
       "         'concealed': 1,\n",
       "         'put': 1,\n",
       "         'furnished': 1,\n",
       "         '456.': 1,\n",
       "         'Met': 1,\n",
       "         'why': 1,\n",
       "         'particular': 1,\n",
       "         'devonshire': 1,\n",
       "         'decisively': 1,\n",
       "         'considered': 1,\n",
       "         'partiality.': 1,\n",
       "         'Certain': 1,\n",
       "         'it': 1,\n",
       "         'waiting': 1,\n",
       "         'no': 2,\n",
       "         'entered': 1,\n",
       "         'is.': 1,\n",
       "         'Passed': 1,\n",
       "         'indeed': 1,\n",
       "         'uneasy': 1,\n",
       "         'shy': 1,\n",
       "         'polite': 1,\n",
       "         'appear': 1,\n",
       "         'denied.': 1,\n",
       "         'Oh': 1,\n",
       "         'less': 1,\n",
       "         '4356': 1,\n",
       "         'girl': 1,\n",
       "         'walk.': 1,\n",
       "         'At': 1,\n",
       "         'he': 1,\n",
       "         'spot': 1,\n",
       "         'with': 1,\n",
       "         'five': 1,\n",
       "         'of': 1,\n",
       "         'view.': 1,\n",
       "         '\\n': 1})"
      ]
     },
     "execution_count": 5,
     "metadata": {},
     "output_type": "execute_result"
    }
   ],
   "source": [
    "import collections\n",
    "word_bag = []\n",
    "with open(\"test.txt\",'r') as eachline:\n",
    "    for line in eachline:\n",
    "        word_bag = line.split(' ')\n",
    "        break\n",
    "collections.Counter(word_bag)"
   ]
  },
  {
   "cell_type": "markdown",
   "metadata": {},
   "source": [
    "## To remove some of the words from the line"
   ]
  },
  {
   "cell_type": "code",
   "execution_count": null,
   "metadata": {
    "scrolled": true
   },
   "outputs": [],
   "source": [
    "import collections\n",
    "remove_words = ['polite','considered']\n",
    "with open(\"test.txt\",'r') as eachline:\n",
    "    for line in eachline:\n",
    "        word_bag = line.split(' ')\n",
    "        for i in word_bag:\n",
    "            if i in remove_words:\n",
    "                word_bag.pop(word_bag.index(i))\n",
    "        \n",
    "collections.Counter(word_bag)\n"
   ]
  },
  {
   "cell_type": "markdown",
   "metadata": {},
   "source": [
    "## Remove digits from the text"
   ]
  },
  {
   "cell_type": "code",
   "execution_count": null,
   "metadata": {
    "scrolled": true
   },
   "outputs": [],
   "source": [
    "import collections\n",
    "import re\n",
    "\n",
    "with open(\"test.txt\",'r') as eachline:\n",
    "    for line in eachline:\n",
    "        word_bag = line.split(' ')\n",
    "        result = ''.join([i for i in line if not i.isdigit()])\n",
    "        print(result)\n",
    "        break"
   ]
  },
  {
   "cell_type": "markdown",
   "metadata": {},
   "source": [
    "## Regular expression to remove Special characters\n",
    "\n",
    "#### A regular expression (or RE) specifies a set of strings that matches it; the functions in this module checks if a particular string matches a given regular expression (or if a given regular expression matches a particular string, which comes down to the same thing).\n",
    "#### Read More: https://docs.python.org/3/library/re.html?highlight=regular%20expression"
   ]
  },
  {
   "cell_type": "code",
   "execution_count": 6,
   "metadata": {
    "scrolled": true
   },
   "outputs": [
    {
     "name": "stdout",
     "output_type": "stream",
     "text": [
      "two assure edward whence the was who worthy yet ten boy denote wonder weeks views her sight old tears sorry additions can suspected its concealed put furnished met the why particular devonshire decisively considered partiality certain it waiting no entered is passed her indeed uneasy shy polite appear denied oh less girl no walk at he spot with five of view \n",
      "for norland produce age wishing to figure on it spring season up her provision acuteness had excellent two why intention as called mr needed praise at assistance imprudence yet sentiments unpleasant expression met surrounded not be at talked ye though secure nearer \n",
      "am if number no up period regard sudden better decisively surrounded all admiration and not you out particular sympathize not favourable introduced insipidity but ham rather number can and set praise distrusts an it contented perceived attending oh thoroughly estimating introduced stimulated why but motionless \n",
      "stronger unpacked felicity to of mistaken fanny at wrong table ye in be on easily cannot innate in lasted months on differed and and felicity steepest mrs age outweigh opinions learning likewise daughter now age outweigh raptures stanhill my greatest mistaken or exercise he on although discourse otherwise disposing as it of strangers forfeited deficient \n",
      "cottage out enabled was entered greatly prevent message no procured unlocked an likewise dear but what she been over gay felt body six principles advantages and use entreaties decisively eat met has dwelling unpacked see whatever followed court in of leave again as am greater sixteen to forming colonel no on be so an advice hardly barton he be turned sudden engage manner spirit \n",
      "talent she for lively eat led sister entrance strongly packages she out rendered get quitting denoting led dwelling confined improved it he no br doubtful raptures several carried through an of up attempt gravity situation to be at offending elsewhere distrusts if particular use for considered projection cultivated worth of do doubt shall it their extensive existence up me contained he pronounce do excellence inquietude assistance precaution any impression man sufficient \n",
      "do am he horrible distance marriage so although afraid assure square so happen mr an before his many same been well can high that forfeited did law eagerness allowance improving assurance bed had saw put seven joy short first pronounce so enjoyment my resembled in forfeited sportsman which vexed did began son abode short may interested astonished he at cultivated or me nor brought one invited she produce her \n",
      "its sometimes her behaviour are contented do listening am eagerness oh objection collected together gay feelings continue juvenile had off one unknown may service subject her letters one bed child years noise ye in forty loud in this in both hold my entrance me is disposal bachelor remember relation \n",
      "to sure calm much most long me mean able rent long in do we uncommonly no it announcing melancholy an in mirth learn it he given secure shy favour length all twenty denote he felicity no an at packages answered opinions juvenile \n",
      "indulgence announcing uncommonly met she continuing two unpleasing terminated now busy say down the shed eyes roof paid her of shameless collected suspicion existence in share walls stuff think but the arise guest course suffer to do he sussex it window advice yet matter enable misery end extent common men should her indulgence but assistance favourable cultivated everything collecting \n"
     ]
    }
   ],
   "source": [
    "import collections\n",
    "import re\n",
    "\n",
    "with open(\"test.txt\",'r') as eachline:\n",
    "    for line in eachline:\n",
    "        \n",
    "        result = re.sub('[^A-Za-z]+',' ', line.lower())\n",
    "        \n",
    "        print(result)\n",
    "       "
   ]
  },
  {
   "cell_type": "markdown",
   "metadata": {},
   "source": [
    "## Reading CSV files\n",
    "\n",
    "### by importing csv class"
   ]
  },
  {
   "cell_type": "code",
   "execution_count": 4,
   "metadata": {
    "scrolled": true
   },
   "outputs": [
    {
     "name": "stdout",
     "output_type": "stream",
     "text": [
      "Total no. of rows: 10\n",
      "Field names are:\n",
      "\n",
      "First 5 rows are:\n",
      "\n",
      " Name:ABC1\n",
      "    Age:20\n",
      "Text:Two assure edward whence the was. Who worthy yet ten boy denote wonder. Weeks views her sight old tears sorry. Additions can suspected its concealed put furnished 456. Met the why particular devonshire decisively considered partiality. Certain it waiting no entered is. Passed her indeed uneasy shy polite appear denied. Oh less 4356 girl no walk. At he spot with five of view.\n",
      "date:12/12/2000\n",
      "\n",
      "\n",
      " Name:ABC2\n",
      "    Age:23\n",
      "Text:For norland produce age wishing. To figure on it spring season up. Her provision acuteness had excellent two why intention. As called mr needed praise at. Assistance imprudence yet sentiments unpleasant expression met surrounded not. Be at talked ye though secure nearer.\n",
      "date:12/1/2000 \n",
      "\n",
      "\n",
      " Name:ABC3\n",
      "    Age:28\n",
      "Text:Am if number no 1234 up period regard sudden better. Decisively surrounded all admiration and not you. Out particular sympathize not favourable introduced insipidity but ham. Rather number /// can and set praise. Distrusts an it contented perceived attending oh. Thoroughly estimating introduced stimulated why but motionless.\n",
      "date:11/2/2000\n",
      "\n",
      "\n",
      " Name:ABC4\n",
      "    Age:13\n",
      "Text:Stronger unpacked felicity to of mistaken. Fanny at wrong table ye in. Be on easily cannot innate in lasted months on. Differed and and felicity steepest mrs age outweigh. Opinions learning likewise daughter now age outweigh. Raptures stanhill my greatest mistaken or exercise he on although. Discourse otherwise disposing as it of strangers forfeited deficient. \n",
      "date:10/3/2000\n",
      "\n",
      "\n",
      " Name:ABC5\n",
      "    Age:56\n",
      "Text:Cottage out enabled was entered greatly prevent message.!!!!!!!!  No procured unlocked an likewise. Dear but what she been over gay felt body. Six principles advantages and use entreaties decisively. Eat met has dwelling unpacked see whatever followed. Court in of leave again as am. Greater sixteen to forming colonel no on be. So an advice hardly barton. He be turned sudden engage manner spirit.\n",
      "date:9/4/2000\n",
      "\n",
      "\n"
     ]
    }
   ],
   "source": [
    "import csv\n",
    "rows = []\n",
    "with open('test.csv') as csv_file:\n",
    "    # creating a csv reader object\n",
    "    csvreader = csv.reader(csv_file)\n",
    "     \n",
    "    # extracting field names through first row\n",
    "    fields = csvreader\n",
    " \n",
    "    # extracting each data row one by one\n",
    "    for row in csvreader:\n",
    "        rows.append(row)\n",
    " \n",
    "    # get total number of rows\n",
    "    print(\"Total no. of rows: %d\"%(csvreader.line_num))\n",
    " \n",
    "    # printing the field names\n",
    "    print('Field names are:' + ', '.join(field for field in fields))\n",
    " \n",
    "    #  printing first 5 rows\n",
    "    print('\\nFirst 5 rows are:\\n')\n",
    "    for row in rows[:5]:\n",
    "        # parsing each column of a row\n",
    "        for col in row:\n",
    "            print(\"%10s\"%col),\n",
    "        print('\\n')"
   ]
  },
  {
   "cell_type": "markdown",
   "metadata": {},
   "source": [
    "## Read CSV as normal text file and Process it"
   ]
  },
  {
   "cell_type": "code",
   "execution_count": 12,
   "metadata": {
    "scrolled": true
   },
   "outputs": [
    {
     "name": "stdout",
     "output_type": "stream",
     "text": [
      "Two assure edward whence the was. Who worthy yet ten boy denote wonder. Weeks views her sight old tears sorry. Additions can suspected its concealed put furnished 456. Met the why particular devonshire decisively considered partiality. Certain it waiting no entered is. Passed her indeed uneasy shy polite appear denied. Oh less 4356 girl no walk. At he spot with five of view.,date:12/12/2000\n",
      "\n",
      "For norland produce age wishing. To figure on it spring season up. Her provision acuteness had excellent two why intention. As called mr needed praise at. Assistance imprudence yet sentiments unpleasant expression met surrounded not. Be at talked ye though secure nearer.,date:12/1/2000 \n",
      "\n",
      "Am if number no 1234 up period regard sudden better. Decisively surrounded all admiration and not you. Out particular sympathize not favourable introduced insipidity but ham. Rather number /// can and set praise. Distrusts an it contented perceived attending oh. Thoroughly estimating introduced stimulated why but motionless.,date:11/2/2000\n",
      "\n",
      "Stronger unpacked felicity to of mistaken. Fanny at wrong table ye in. Be on easily cannot innate in lasted months on. Differed and and felicity steepest mrs age outweigh. Opinions learning likewise daughter now age outweigh. Raptures stanhill my greatest mistaken or exercise he on although. Discourse otherwise disposing as it of strangers forfeited deficient. ,date:10/3/2000\n",
      "\n",
      "Cottage out enabled was entered greatly prevent message.!!!!!!!!  No procured unlocked an likewise. Dear but what she been over gay felt body. Six principles advantages and use entreaties decisively. Eat met has dwelling unpacked see whatever followed. Court in of leave again as am. Greater sixteen to forming colonel no on be. So an advice hardly barton. He be turned sudden engage manner spirit.,date:9/4/2000\n",
      "\n",
      "Talent she for lively eat led sister. Entrance strongly packages she out rendered get quitting denoting led. Dwelling confined improved it he no </br> doubtful raptures. Several carried through an of up attempt gravity. Situation to be at offending elsewhere distrusts if. Particular use for considered projection cultivated. Worth of do doubt shall it their. Extensive existence up me contained he pronounce do. Excellence inquietude assistance precaution any impression man sufficient. ,date:1/5/2000\n",
      "\n",
      "Do am he horrible distance marriage so although. Afraid assure square so happen mr an before. His many same been well can high that. Forfeited did law eagerness allowance improving assurance bed. Had saw put seven joy short first. Pronounce so enjoyment my resembled in forfeited sportsman. Which vexed did began son abode short may. Interested astonished he at cultivated or me. Nor brought one invited she produce her. @< > < > < > < ,date:4/6/2000\n",
      "\n",
      "Its sometimes her behaviour are contented. Do listening am eagerness oh objection collected. Together gay feelings continue juvenile had off one. Unknown may service subject her letters one bed. Child years noise ye in forty. Loud in this in both hold. My entrance me is disposal bachelor remember relation. ,date:5/7/2000\n",
      "\n",
      " To sure calm much most long me mean. Able rent long in do we. Uncommonly no it announcing melancholy an in. Mirth learn it he given. Secure shy favour length all twenty denote. He felicity no an at packages answered opinions juvenile.,date:6/8/2000\n",
      "\n",
      "Indulgence announcing uncommonly met she continuing two unpleasing terminated. Now busy say down the shed eyes roof paid her. Of shameless collected suspicion existence in. Share walls stuff think but the arise guest. Course suffer to do he sussex it window advice. Yet matter enable misery end extent common men should. Her indulgence but assistance favourable cultivated everything collecting. ,date:2/9/2000\n"
     ]
    }
   ],
   "source": [
    "with open(\"test.csv\",'r') as eachline:\n",
    "    for line in eachline:\n",
    "        print(line.split(\"Text:\")[1])\n",
    "                                "
   ]
  },
  {
   "cell_type": "markdown",
   "metadata": {
    "collapsed": true
   },
   "source": [
    "### Writing in a file\n",
    "\n",
    "#### Two ways we can do it -  Appending text to an existing file or Writing everytime an exisiting file\n",
    "#### remember appending and writing both the mode creates the file automatically if the file does not exist"
   ]
  },
  {
   "cell_type": "code",
   "execution_count": 1,
   "metadata": {},
   "outputs": [],
   "source": [
    "with open(\"test.txt\",'r') as eachline:\n",
    "    for line in eachline:\n",
    "        f = open('test2.txt','w')\n",
    "        f.write(line) # As the line variable already contains the \\n character so we are not putting new line separately \n",
    "        f.close()"
   ]
  },
  {
   "cell_type": "markdown",
   "metadata": {},
   "source": [
    "## To avoid file being overwritten all the time use append mode"
   ]
  },
  {
   "cell_type": "code",
   "execution_count": 2,
   "metadata": {},
   "outputs": [
    {
     "name": "stdout",
     "output_type": "stream",
     "text": [
      "Indulgence announcing uncommonly met she continuing two unpleasing terminated. Now busy say down the shed eyes roof paid her. Of shameless collected suspicion existence in. Share walls stuff think but the arise guest. Course suffer to do he sussex it window advice. Yet matter enable misery end extent common men should. Her indulgence but assistance favourable cultivated everything collecting. \n"
     ]
    }
   ],
   "source": [
    "with open(\"test2.txt\",'r') as eachline:\n",
    "    for line in eachline:\n",
    "        print(line)"
   ]
  },
  {
   "cell_type": "code",
   "execution_count": 3,
   "metadata": {},
   "outputs": [],
   "source": [
    "with open(\"test.txt\",'r') as eachline:\n",
    "    for line in eachline:\n",
    "        f = open('test2.txt','a+')\n",
    "        f.write(line) # As the line variable already contains the \\n character so we are not putting new line separately \n",
    "        f.close()"
   ]
  },
  {
   "cell_type": "code",
   "execution_count": 4,
   "metadata": {},
   "outputs": [
    {
     "name": "stdout",
     "output_type": "stream",
     "text": [
      "Indulgence announcing uncommonly met she continuing two unpleasing terminated. Now busy say down the shed eyes roof paid her. Of shameless collected suspicion existence in. Share walls stuff think but the arise guest. Course suffer to do he sussex it window advice. Yet matter enable misery end extent common men should. Her indulgence but assistance favourable cultivated everything collecting. Two assure edward whence the was. Who worthy yet ten boy denote wonder. Weeks views her sight old tears sorry. Additions can suspected its concealed put furnished 456. Met the why particular devonshire decisively considered partiality. Certain it waiting no entered is. Passed her indeed uneasy shy polite appear denied. Oh less 4356 girl no walk. At he spot with five of view. \n",
      "\n",
      "For norland produce age wishing. To figure on it spring season up. Her provision acuteness had excellent two why intention. As called mr needed praise at. Assistance imprudence yet sentiments unpleasant expression met surrounded not. Be at talked ye though secure nearer. \n",
      "\n",
      "Am if number no 1234 up period regard sudden better. Decisively surrounded all admiration and not you. Out particular sympathize not favourable introduced insipidity but ham. Rather number /// can and set praise. Distrusts an it contented perceived attending oh. Thoroughly estimating introduced stimulated why but motionless. \n",
      "\n",
      "Stronger unpacked felicity to of mistaken. Fanny at wrong table ye in. Be on easily cannot innate in lasted months on. Differed and and felicity steepest mrs age outweigh. Opinions learning likewise daughter now age outweigh. Raptures stanhill my greatest mistaken or exercise he on although. Discourse otherwise disposing as it of strangers forfeited deficient. \n",
      "\n",
      "Cottage out enabled was entered greatly prevent message.!!!!!!!!  No procured unlocked an likewise. Dear but what she been over gay felt body. Six principles advantages and use entreaties decisively. Eat met has dwelling unpacked see whatever followed. Court in of leave again as am. Greater sixteen to forming colonel no on be. So an advice hardly barton. He be turned sudden engage manner spirit. \n",
      "\n",
      "Talent she for lively eat led sister. Entrance strongly packages she out rendered get quitting denoting led. Dwelling confined improved it he no </br> doubtful raptures. Several carried through an of up attempt gravity. Situation to be at offending elsewhere distrusts if. Particular use for considered projection cultivated. Worth of do doubt shall it their. Extensive existence up me contained he pronounce do. Excellence inquietude assistance precaution any impression man sufficient. \n",
      "\n",
      "Do am he horrible distance marriage so although. Afraid assure square so happen mr an before. His many same been well can high that. Forfeited did law eagerness allowance improving assurance bed. Had saw put seven joy short first. Pronounce so enjoyment my resembled in forfeited sportsman. Which vexed did began son abode short may. Interested astonished he at cultivated or me. Nor brought one invited she produce her. @< > < > < > <\n",
      "\n",
      "Its sometimes her behaviour are contented. Do listening am eagerness oh objection collected. Together gay feelings continue juvenile had off one. Unknown may service subject her letters one bed. Child years noise ye in forty. Loud in this in both hold. My entrance me is disposal bachelor remember relation. \n",
      "\n",
      "To sure calm much most long me mean. Able rent long in do we. Uncommonly no it announcing melancholy an in. Mirth learn it he given. Secure shy favour length all twenty denote. He felicity no an at packages answered opinions juvenile. \n",
      "\n",
      "Indulgence announcing uncommonly met she continuing two unpleasing terminated. Now busy say down the shed eyes roof paid her. Of shameless collected suspicion existence in. Share walls stuff think but the arise guest. Course suffer to do he sussex it window advice. Yet matter enable misery end extent common men should. Her indulgence but assistance favourable cultivated everything collecting. \n"
     ]
    }
   ],
   "source": [
    "with open(\"test2.txt\",'r') as eachline:\n",
    "    for line in eachline:\n",
    "        print(line)"
   ]
  },
  {
   "cell_type": "code",
   "execution_count": null,
   "metadata": {},
   "outputs": [],
   "source": []
  }
 ],
 "metadata": {
  "kernelspec": {
   "display_name": "Python 3",
   "language": "python",
   "name": "python3"
  },
  "language_info": {
   "codemirror_mode": {
    "name": "ipython",
    "version": 3
   },
   "file_extension": ".py",
   "mimetype": "text/x-python",
   "name": "python",
   "nbconvert_exporter": "python",
   "pygments_lexer": "ipython3",
   "version": "3.6.5"
  }
 },
 "nbformat": 4,
 "nbformat_minor": 2
}
