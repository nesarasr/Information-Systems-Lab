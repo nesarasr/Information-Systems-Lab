{
 "cells": [
  {
   "cell_type": "code",
   "execution_count": 21,
   "metadata": {},
   "outputs": [],
   "source": [
    "#Question 1\n",
    "class accounts:\n",
    "    def __init__(self,n,m):\n",
    "        self.full_name = n\n",
    "        self.amount = m\n",
    "    def deposit(self,d):\n",
    "        self.amount=self.amount+d\n",
    "    def withdraw(self,w):\n",
    "        self.amount=self.amount-w\n",
    "    def balance(self):\n",
    "        print(\"Balance:\",self.amount)\n",
    "    def interest(self,i):\n",
    "        pass"
   ]
  },
  {
   "cell_type": "code",
   "execution_count": 22,
   "metadata": {},
   "outputs": [],
   "source": [
    "ac1=accounts(\"Nesara\",1000)"
   ]
  },
  {
   "cell_type": "code",
   "execution_count": 23,
   "metadata": {},
   "outputs": [],
   "source": [
    "ac1.deposit(1000)"
   ]
  },
  {
   "cell_type": "code",
   "execution_count": 24,
   "metadata": {},
   "outputs": [
    {
     "name": "stdout",
     "output_type": "stream",
     "text": [
      "Balance: 2000\n"
     ]
    }
   ],
   "source": [
    "ac1.balance()"
   ]
  },
  {
   "cell_type": "code",
   "execution_count": 25,
   "metadata": {},
   "outputs": [],
   "source": [
    "ac1.withdraw(250)"
   ]
  },
  {
   "cell_type": "code",
   "execution_count": 26,
   "metadata": {},
   "outputs": [
    {
     "name": "stdout",
     "output_type": "stream",
     "text": [
      "Balance: 1750\n"
     ]
    }
   ],
   "source": [
    "ac1.balance()"
   ]
  },
  {
   "cell_type": "code",
   "execution_count": 94,
   "metadata": {},
   "outputs": [],
   "source": [
    "#Question 2\n",
    "class savings(accounts):\n",
    "    \n",
    "    def __init__(self,n,m,amt=0):\n",
    "        self.__s= 0\n",
    "        accounts.__init__(self,n,m)\n",
    "        self.amt=amt\n",
    "        self.__s= self.__s+1\n",
    "    def interest(self):\n",
    "        self.amt=self.amount*(20/100)\n",
    "        print(self.amt)\n",
    "        "
   ]
  },
  {
   "cell_type": "code",
   "execution_count": 93,
   "metadata": {},
   "outputs": [],
   "source": [
    "s1=savings(\"Nesara\",1000)"
   ]
  },
  {
   "cell_type": "code",
   "execution_count": 56,
   "metadata": {},
   "outputs": [
    {
     "name": "stdout",
     "output_type": "stream",
     "text": [
      "200.0\n"
     ]
    }
   ],
   "source": [
    "s1.interest()"
   ]
  },
  {
   "cell_type": "code",
   "execution_count": 95,
   "metadata": {},
   "outputs": [],
   "source": [
    "#Question 3\n",
    "class current(accounts):\n",
    "    \n",
    "    def __init__(self,n,m,amt=0):\n",
    "        self.__c=0\n",
    "        accounts.__init__(self,n,m)\n",
    "        self.amt=amt\n",
    "        self.__c= self.__c+1\n",
    "    def interest(self):\n",
    "        self.amt=self.amount*(30/100)\n",
    "        print(self.amt)\n",
    "    def withdraw(self,w):\n",
    "        self.amount=self.amount-w\n",
    "        if self.amount>=-5000:\n",
    "            print(\"Withdraw Successful\")\n",
    "        else:\n",
    "            print(\"Transaction not allowed\")\n",
    "            self.amount=self.amount+w"
   ]
  },
  {
   "cell_type": "code",
   "execution_count": 85,
   "metadata": {},
   "outputs": [],
   "source": [
    "c1=current(\"Nesara\",1000)"
   ]
  },
  {
   "cell_type": "code",
   "execution_count": 86,
   "metadata": {},
   "outputs": [
    {
     "name": "stdout",
     "output_type": "stream",
     "text": [
      "300.0\n"
     ]
    }
   ],
   "source": [
    "c1.interest()"
   ]
  },
  {
   "cell_type": "code",
   "execution_count": 87,
   "metadata": {},
   "outputs": [
    {
     "name": "stdout",
     "output_type": "stream",
     "text": [
      "Transaction not allowed\n"
     ]
    }
   ],
   "source": [
    "c1.withdraw(50000)"
   ]
  },
  {
   "cell_type": "code",
   "execution_count": 79,
   "metadata": {},
   "outputs": [
    {
     "name": "stdout",
     "output_type": "stream",
     "text": [
      "Withdraw Successful\n"
     ]
    }
   ],
   "source": [
    "c1.withdraw(200)"
   ]
  },
  {
   "cell_type": "code",
   "execution_count": null,
   "metadata": {},
   "outputs": [],
   "source": []
  }
 ],
 "metadata": {
  "kernelspec": {
   "display_name": "Python 3",
   "language": "python",
   "name": "python3"
  },
  "language_info": {
   "codemirror_mode": {
    "name": "ipython",
    "version": 3
   },
   "file_extension": ".py",
   "mimetype": "text/x-python",
   "name": "python",
   "nbconvert_exporter": "python",
   "pygments_lexer": "ipython3",
   "version": "3.6.5"
  }
 },
 "nbformat": 4,
 "nbformat_minor": 2
}
