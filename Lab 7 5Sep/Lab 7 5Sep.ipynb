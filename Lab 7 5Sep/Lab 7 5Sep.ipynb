{
 "cells": [
  {
   "cell_type": "code",
   "execution_count": 1,
   "metadata": {},
   "outputs": [
    {
     "name": "stdout",
     "output_type": "stream",
     "text": [
      "Enter dimension of the matrix:2\n",
      "Enter the entries rowwise:\n",
      "1\n",
      "2\n",
      "3\n",
      "4\n",
      "[[1, 2], [3, 4]]\n",
      "Sum of Principal diagonal elements: 5\n",
      "Sum of Non Principal diagonal elements: 5\n"
     ]
    }
   ],
   "source": [
    "#Question 1\n",
    "import numpy as np\n",
    "n=int(input(\"Enter dimension of the matrix:\"))\n",
    "matrix = [] \n",
    "print(\"Enter the entries rowwise:\") \n",
    "  \n",
    "# For user input \n",
    "for i in range(n):          # A for loop for row entries \n",
    "    a =[] \n",
    "    for j in range(n):      # A for loop for column entries \n",
    "         a.append(int(input())) \n",
    "    matrix.append(a)\n",
    "print(matrix)\n",
    "sum=0\n",
    "for i in range(n):\n",
    "    sum=sum+matrix[i][i]\n",
    "print(\"Sum of Principal diagonal elements:\",sum)\n",
    "\n",
    "sum=0\n",
    "for i in range(n):\n",
    "    sum=sum+matrix[i][n-1-i]\n",
    "print(\"Sum of Non Principal diagonal elements:\",sum)"
   ]
  },
  {
   "cell_type": "code",
   "execution_count": 10,
   "metadata": {},
   "outputs": [
    {
     "name": "stdout",
     "output_type": "stream",
     "text": [
      "[[49 53 75 16 35 74]\n",
      " [59  5 36 96 75 70]\n",
      " [21 96 18  3 26 73]\n",
      " [10 89 27 50 29 99]\n",
      " [48 24 96 20 68  3]\n",
      " [78 58  2 48 14 21]\n",
      " [42 88 95 56 84  6]\n",
      " [81 88 32 55 45 92]\n",
      " [79 85 70 28 39 37]\n",
      " [51  2 11 54 60 55]]\n",
      "1.Students with highest and lowest total marks\n",
      "2.Subjects with the highest and lowest average score\n",
      "3.Students with the highest score in each subject\n",
      "Input choice: 3\n",
      "Maximum is Subject 1 is scored by Student 8\n",
      "Maximum is Subject 2 is scored by Student 3\n",
      "Maximum is Subject 3 is scored by Student 5\n",
      "Maximum is Subject 4 is scored by Student 2\n",
      "Maximum is Subject 5 is scored by Student 7\n",
      "Maximum is Subject 6 is scored by Student 4\n"
     ]
    }
   ],
   "source": [
    "#Question 2\n",
    "marks=[]\n",
    "for i in range(10):\n",
    "    x=np.random.randint(101, size=6).tolist()\n",
    "    marks.append(x)\n",
    "Marks=np.array(marks)\n",
    "print(Marks)\n",
    "print(\"1.Students with highest and lowest total marks\")\n",
    "print(\"2.Subjects with the highest and lowest average score\")\n",
    "print(\"3.Students with the highest score in each subject\")\n",
    "choice=int(input(\"Input choice: \"))\n",
    "if choice==1:\n",
    "    M=np.sum(Marks[0])\n",
    "    Mi=0\n",
    "    mi=0\n",
    "    m=np.sum(Marks[0])\n",
    "    for i in range(1,10):\n",
    "        x=Marks[i]\n",
    "        y=np.sum(x)\n",
    "        if y>M:\n",
    "            M=y\n",
    "            Mi=i\n",
    "        if y<m:\n",
    "            m=y\n",
    "            mi=i\n",
    "    print(\"Highest Total:\",M,\"by Student\",Mi+1)\n",
    "    print(\"Lowest Total:\",m,\"by Student\",mi+1)\n",
    "elif choice==2:\n",
    "    sub=[]\n",
    "    for i in range(6):\n",
    "        x=0\n",
    "        for j in range(10):\n",
    "                x=x+Marks[j][i]\n",
    "        x=x/10\n",
    "        sub.append(x)\n",
    "    I=np.argmin(sub)\n",
    "    print(sub)\n",
    "    print(\"Subject with the lowest average is Subject\",I+1)\n",
    "elif choice==3:\n",
    "    sub=[]\n",
    "    for i in range(6):\n",
    "        x=np.argmax(Marks[:,i])\n",
    "        print(\"Maximum is Subject\",i+1,\"is scored by Student\",x+1)"
   ]
  },
  {
   "cell_type": "code",
   "execution_count": 23,
   "metadata": {},
   "outputs": [
    {
     "name": "stdout",
     "output_type": "stream",
     "text": [
      "Not a Magic Square\n"
     ]
    }
   ],
   "source": [
    "#Question 3\n",
    "import numpy as np\n",
    "n=5\n",
    "A = np.array ([[17, 24, 1, 8, 15], [23, 5, 7, 14, 16], [ 4, 6, 13, 20, 22], \n",
    "               [10, 12, 19, 21, 3], [11, 18, 25, 2, 9]])\n",
    "sum1=[]\n",
    "for i in range(n):\n",
    "    x=np.sum(A[i])\n",
    "    y=np.sum(A[:,i])\n",
    "    sum1.append(x)\n",
    "    sum1.append(y)\n",
    "x=0\n",
    "for i in range(n):\n",
    "    x=x+A[i][i]\n",
    "sum1.append(x)\n",
    "x=0\n",
    "for i in range(n):\n",
    "    x=x+A[i][n-1-i]\n",
    "    sum1.append(x)\n",
    "\n",
    "if np.all(np.isclose(sum1, sum1[0])):\n",
    "    print(\"Magic Square\")\n",
    "else:\n",
    "    print (\"Not a Magic Square\")"
   ]
  },
  {
   "cell_type": "code",
   "execution_count": 14,
   "metadata": {},
   "outputs": [
    {
     "name": "stdout",
     "output_type": "stream",
     "text": [
      "Enter the number of elements:7\n",
      "[2, 3, 9, 3, 6, 3, 6]\n",
      "1\n",
      "0\n"
     ]
    }
   ],
   "source": [
    "#Question 4\n",
    "import random\n",
    "n = int(input(\"Enter the number of elements:\")) \n",
    " \n",
    "mat = [] \n",
    "           \n",
    "for i in range(n):     \n",
    "    mat.append(random.randrange(0, 10))\n",
    "\n",
    "print(mat)\n",
    "        \n",
    "count1=0\n",
    "count2=0\n",
    "\n",
    "for i in range(n):\n",
    "    if i%2==0 and mat[i]%2!=0:\n",
    "        count1=count1+1\n",
    "    elif i%2!=0 and mat[i]%2==0:\n",
    "        count2=count2+1\n",
    "    else :\n",
    "         pass\n",
    "\n",
    "print(count1)\n",
    "print(count2)"
   ]
  },
  {
   "cell_type": "code",
   "execution_count": 21,
   "metadata": {
    "scrolled": true
   },
   "outputs": [
    {
     "name": "stdout",
     "output_type": "stream",
     "text": [
      "Original array:\n",
      "[10  2  7  0  9  7  0  7  5 10  2  5  1  0  4  5  3  2 10  8  1  8  9  5\n",
      "  3  5  0  6  9  3 10  3  0  0  4  8  0  8  6  3  5 10  6  7  3  9  9  3\n",
      "  4  0  1  4  9  7  4  6  9 10  2  5  8  9  8 10  4  9  6  7  2  4  1 10\n",
      "  5  1  4  7  4  6  5  6  7  5 10  9 10  7  7  1  0  6  5  3  9  1  5  7\n",
      "  4  2  6  4]\n",
      "Frequency of unique values of the said array:\n",
      "[[ 0  1  2  3  4  5  6  7  8  9 10]\n",
      " [ 9  7  6  8 11 12  9 11  6 11 10]]\n"
     ]
    },
    {
     "data": {
      "image/png": "[encoded data removed]",
      "text/plain": [
       "<Figure size 432x288 with 1 Axes>"
      ]
     },
     "metadata": {},
     "output_type": "display_data"
    },
    {
     "data": {
      "image/png": "[encoded data removed]",
      "text/plain": [
       "<Figure size 432x288 with 1 Axes>"
      ]
     },
     "metadata": {},
     "output_type": "display_data"
    }
   ],
   "source": [
    "#Question 5\n",
    "import numpy as np\n",
    "a = np.random.randint(11, size=100)\n",
    "print(\"Original array:\")\n",
    "print(a)\n",
    "unique_elements, counts_elements = np.unique(a, return_counts=True)\n",
    "print(\"Frequency of unique values of the said array:\")\n",
    "print(np.asarray((unique_elements, counts_elements)))\n",
    "from matplotlib import pyplot as plt \n",
    "plt.bar(unique_elements, counts_elements, align = 'center')\n",
    "plt.title('Bar graph') \n",
    "plt.ylabel('Y axis') \n",
    "plt.xlabel('X axis')  \n",
    "\n",
    "plt.show()\n",
    "\n",
    "\n",
    "labels =unique_elements\n",
    "sizes =  counts_elements\n",
    "patches, texts = plt.pie(sizes, shadow=True, startangle=90)\n",
    "plt.legend(patches, labels, loc=\"best\")\n",
    "plt.axis('equal')\n",
    "plt.tight_layout()\n",
    "plt.show()"
   ]
  },
  {
   "cell_type": "code",
   "execution_count": null,
   "metadata": {},
   "outputs": [],
   "source": []
  }
 ],
 "metadata": {
  "kernelspec": {
   "display_name": "Python 3",
   "language": "python",
   "name": "python3"
  },
  "language_info": {
   "codemirror_mode": {
    "name": "ipython",
    "version": 3
   },
   "file_extension": ".py",
   "mimetype": "text/x-python",
   "name": "python",
   "nbconvert_exporter": "python",
   "pygments_lexer": "ipython3",
   "version": "3.6.5"
  }
 },
 "nbformat": 4,
 "nbformat_minor": 2
}
