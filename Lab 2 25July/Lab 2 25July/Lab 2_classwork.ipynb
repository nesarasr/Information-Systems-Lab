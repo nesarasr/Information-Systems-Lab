{
 "cells": [
  {
   "cell_type": "code",
   "execution_count": null,
   "metadata": {},
   "outputs": [],
   "source": [
    "#Question 1\n",
    "l=[1,2,3]"
   ]
  },
  {
   "cell_type": "code",
   "execution_count": null,
   "metadata": {},
   "outputs": [],
   "source": [
    "l.append(56)"
   ]
  },
  {
   "cell_type": "code",
   "execution_count": null,
   "metadata": {},
   "outputs": [],
   "source": [
    "l.append(100)"
   ]
  },
  {
   "cell_type": "code",
   "execution_count": null,
   "metadata": {},
   "outputs": [],
   "source": [
    "l"
   ]
  },
  {
   "cell_type": "code",
   "execution_count": null,
   "metadata": {},
   "outputs": [],
   "source": [
    "from collections import deque"
   ]
  },
  {
   "cell_type": "code",
   "execution_count": null,
   "metadata": {},
   "outputs": [],
   "source": [
    "l=deque(l)"
   ]
  },
  {
   "cell_type": "code",
   "execution_count": null,
   "metadata": {},
   "outputs": [],
   "source": [
    "l"
   ]
  },
  {
   "cell_type": "code",
   "execution_count": null,
   "metadata": {},
   "outputs": [],
   "source": [
    "l.appendleft(1000)"
   ]
  },
  {
   "cell_type": "code",
   "execution_count": null,
   "metadata": {},
   "outputs": [],
   "source": [
    "l.appendleft(2000)"
   ]
  },
  {
   "cell_type": "code",
   "execution_count": null,
   "metadata": {},
   "outputs": [],
   "source": [
    "l"
   ]
  },
  {
   "cell_type": "code",
   "execution_count": null,
   "metadata": {},
   "outputs": [],
   "source": [
    "#Question 2\n",
    "l1=[['ME','ISE','CSE','MATH'],['Ram','Shyam','Sruti','Pankaj','Anuja','Anjali'],[17,18,18,17,19,18]]"
   ]
  },
  {
   "cell_type": "code",
   "execution_count": null,
   "metadata": {},
   "outputs": [],
   "source": [
    "l1"
   ]
  },
  {
   "cell_type": "code",
   "execution_count": null,
   "metadata": {},
   "outputs": [],
   "source": [
    "l1[1][2]"
   ]
  },
  {
   "cell_type": "code",
   "execution_count": null,
   "metadata": {},
   "outputs": [],
   "source": [
    "max(l1[2])"
   ]
  },
  {
   "cell_type": "code",
   "execution_count": null,
   "metadata": {},
   "outputs": [],
   "source": [
    "#Question 3\n",
    "para='It gives me great pleasure to be here for the 64th annual convocation of the Indian Institute of Technology, Kharagpur. This is a pioneering institute. It was the first of the IITs in our country and in a sense marked the beginning of technical and engineering education after Independence. A convocation ceremony is a landmark for any academic institution. This is a day of reward for years of hard work by the approximately 2,500 students who are graduating today. I must also mention the efforts and sacrifices of their professors and teachers, and their family members. I congratulate all of you and wish you the very best as you step into a world that is defined, driven and developed by technology. I have no doubt that you will contribute to making this world a better place, both professionally and personally, with your education and with your empathy for fellow human beings. IIT Kharagpur has its origins in a committee that was set up by the government shortly after Independence to take stock of technical education. The committee was headed by the British Nobel laureate Dr A.V. Hill. Dr Hill recommended the setting up of an institution modelled on the pattern of MIT in the United States. The result is the Institute we are in today. The use of global experts to conceive this Institute was appropriate. Over the years, IIT Kharagpur and in fact the IIT network and community has become an important window to the world. This is in keeping with our country’s and our civilisation’s character. Exchange of ideas, of expertise, of knowledge – across fields, from engineering to economics, from medicine to management – has contributed to our policy choices and our people’s development. We must continue to celebrate this. The IIT Kharagpur community is a prized resource for India and for the world. As graduating students will soon realise, the IIT Kharagpur brand name and the reputation built by the achievements of generations of illustrious alumni will accompany you wherever you go. You are now part of a transcontinental talent pool that has added value to technology and wealth creation and, above all, to human lives. Your Institute took a major step towards strengthening India’s global academic linkages when it started the International Summer Winter Term Programme. Later the Ministry of Human Resource Development expanded this in the form of the Global Initiative of Academic Networks or GIAN. IIT Kharagpur is the largest member of the IIT family. It has the maximum number of academic units, students and faculty members. It was also the first to diversify and enlarge the ambit of the IIT system from just pure sciences and engineering. IIT Kharagpur was the first to establish a business school, a law school and a medical school. The campus today boasts a Science and Technology Entrepreneurship Park, a Petroleum Engineering Centre, and even a Centre for the Science of Happiness. One day I would like to visit it. Many of these schools and centres were established due to endowments and efforts of alumni. The alumni community’s affection for and continued association with IIT Kharagpur is a role model for other educational institutions'"
   ]
  },
  {
   "cell_type": "code",
   "execution_count": null,
   "metadata": {},
   "outputs": [],
   "source": [
    "from collections import Counter\n"
   ]
  },
  {
   "cell_type": "code",
   "execution_count": null,
   "metadata": {},
   "outputs": [],
   "source": [
    "frequency=Counter(para.split())"
   ]
  },
  {
   "cell_type": "code",
   "execution_count": null,
   "metadata": {},
   "outputs": [],
   "source": [
    "frequency"
   ]
  },
  {
   "cell_type": "code",
   "execution_count": null,
   "metadata": {},
   "outputs": [],
   "source": [
    "[(u,v) for u,v in frequency.items() if v>10]\n"
   ]
  },
  {
   "cell_type": "code",
   "execution_count": null,
   "metadata": {},
   "outputs": [],
   "source": [
    "#Question 4\n",
    "Counter(para.split()).most_common(5)"
   ]
  },
  {
   "cell_type": "code",
   "execution_count": null,
   "metadata": {},
   "outputs": [],
   "source": [
    "from collections import defaultdict\n"
   ]
  },
  {
   "cell_type": "code",
   "execution_count": null,
   "metadata": {},
   "outputs": [],
   "source": [
    "from collections import OrderedDict"
   ]
  },
  {
   "cell_type": "code",
   "execution_count": null,
   "metadata": {},
   "outputs": [],
   "source": [
    "od=OrderedDict()"
   ]
  },
  {
   "cell_type": "code",
   "execution_count": null,
   "metadata": {},
   "outputs": [],
   "source": [
    "od['a']=[1,2,3,4,5]\n",
    "od['b']=[11,27,38,44,57]\n",
    "od['c']=[19,435,324,12]"
   ]
  },
  {
   "cell_type": "code",
   "execution_count": null,
   "metadata": {},
   "outputs": [],
   "source": [
    "od"
   ]
  },
  {
   "cell_type": "code",
   "execution_count": null,
   "metadata": {},
   "outputs": [],
   "source": [
    "od.popitem()"
   ]
  },
  {
   "cell_type": "code",
   "execution_count": null,
   "metadata": {},
   "outputs": [],
   "source": [
    "#Question 5\n",
    "import pandas as pd"
   ]
  },
  {
   "cell_type": "code",
   "execution_count": null,
   "metadata": {},
   "outputs": [],
   "source": [
    "d = {'col1': [1, 2,3,5,6,7,8], 'col2': [3.0, 4.0, 12.5,4,56,7, 5]}"
   ]
  },
  {
   "cell_type": "code",
   "execution_count": null,
   "metadata": {},
   "outputs": [],
   "source": [
    "d"
   ]
  },
  {
   "cell_type": "code",
   "execution_count": null,
   "metadata": {},
   "outputs": [],
   "source": [
    "df = pd.DataFrame(data=d)"
   ]
  },
  {
   "cell_type": "code",
   "execution_count": null,
   "metadata": {},
   "outputs": [],
   "source": [
    "df"
   ]
  },
  {
   "cell_type": "code",
   "execution_count": null,
   "metadata": {},
   "outputs": [],
   "source": [
    "df.iloc[1]['col2']"
   ]
  },
  {
   "cell_type": "code",
   "execution_count": null,
   "metadata": {},
   "outputs": [],
   "source": [
    "for index, row in df.iterrows():\n",
    "    print(row['col1'], row['col2'])\n",
    "\n"
   ]
  },
  {
   "cell_type": "code",
   "execution_count": null,
   "metadata": {},
   "outputs": [],
   "source": [
    "import pandas as pd\n",
    "\n",
    "data = pd.read_csv('test_data.txt', header = None)\n",
    "print(data)"
   ]
  },
  {
   "cell_type": "code",
   "execution_count": null,
   "metadata": {},
   "outputs": [],
   "source": []
  }
 ],
 "metadata": {
  "kernelspec": {
   "display_name": "Python 3",
   "language": "python",
   "name": "python3"
  },
  "language_info": {
   "codemirror_mode": {
    "name": "ipython",
    "version": 3
   },
   "file_extension": ".py",
   "mimetype": "text/x-python",
   "name": "python",
   "nbconvert_exporter": "python",
   "pygments_lexer": "ipython3",
   "version": "3.6.5"
  }
 },
 "nbformat": 4,
 "nbformat_minor": 2
}
