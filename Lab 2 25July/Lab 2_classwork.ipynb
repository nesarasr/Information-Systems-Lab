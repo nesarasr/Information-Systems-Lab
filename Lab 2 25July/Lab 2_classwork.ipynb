{
 "cells": [
  {
   "cell_type": "code",
   "execution_count": 11,
   "metadata": {},
   "outputs": [],
   "source": [
    "#Question 1\n",
    "l=[1,2,3]"
   ]
  },
  {
   "cell_type": "code",
   "execution_count": 2,
   "metadata": {},
   "outputs": [],
   "source": [
    "l.append(56)"
   ]
  },
  {
   "cell_type": "code",
   "execution_count": 3,
   "metadata": {},
   "outputs": [],
   "source": [
    "l.append(100)"
   ]
  },
  {
   "cell_type": "code",
   "execution_count": 4,
   "metadata": {},
   "outputs": [
    {
     "data": {
      "text/plain": [
       "[1, 2, 3, 56, 100]"
      ]
     },
     "execution_count": 4,
     "metadata": {},
     "output_type": "execute_result"
    }
   ],
   "source": [
    "l"
   ]
  },
  {
   "cell_type": "code",
   "execution_count": 5,
   "metadata": {},
   "outputs": [],
   "source": [
    "from collections import deque"
   ]
  },
  {
   "cell_type": "code",
   "execution_count": 6,
   "metadata": {},
   "outputs": [],
   "source": [
    "l=deque(l)"
   ]
  },
  {
   "cell_type": "code",
   "execution_count": 7,
   "metadata": {},
   "outputs": [
    {
     "data": {
      "text/plain": [
       "deque([1, 2, 3, 56, 100])"
      ]
     },
     "execution_count": 7,
     "metadata": {},
     "output_type": "execute_result"
    }
   ],
   "source": [
    "l"
   ]
  },
  {
   "cell_type": "code",
   "execution_count": 8,
   "metadata": {},
   "outputs": [],
   "source": [
    "l.appendleft(1000)"
   ]
  },
  {
   "cell_type": "code",
   "execution_count": 9,
   "metadata": {},
   "outputs": [],
   "source": [
    "l.appendleft(2000)"
   ]
  },
  {
   "cell_type": "code",
   "execution_count": 10,
   "metadata": {},
   "outputs": [
    {
     "data": {
      "text/plain": [
       "deque([2000, 1000, 1, 2, 3, 56, 100])"
      ]
     },
     "execution_count": 10,
     "metadata": {},
     "output_type": "execute_result"
    }
   ],
   "source": [
    "l"
   ]
  },
  {
   "cell_type": "code",
   "execution_count": 12,
   "metadata": {},
   "outputs": [],
   "source": [
    "#Question 2\n",
    "l1=[['ME','ISE','CSE','MATH'],['Ram','Shyam','Sruti','Pankaj','Anuja','Anjali'],[17,18,18,17,19,18]]"
   ]
  },
  {
   "cell_type": "code",
   "execution_count": 13,
   "metadata": {},
   "outputs": [
    {
     "data": {
      "text/plain": [
       "[['ME', 'ISE', 'CSE', 'MATH'],\n",
       " ['Ram', 'Shyam', 'Sruti', 'Pankaj', 'Anuja', 'Anjali'],\n",
       " [17, 18, 18, 17, 19, 18]]"
      ]
     },
     "execution_count": 13,
     "metadata": {},
     "output_type": "execute_result"
    }
   ],
   "source": [
    "l1"
   ]
  },
  {
   "cell_type": "code",
   "execution_count": 14,
   "metadata": {},
   "outputs": [
    {
     "data": {
      "text/plain": [
       "'Sruti'"
      ]
     },
     "execution_count": 14,
     "metadata": {},
     "output_type": "execute_result"
    }
   ],
   "source": [
    "l1[1][2]"
   ]
  },
  {
   "cell_type": "code",
   "execution_count": 15,
   "metadata": {},
   "outputs": [
    {
     "data": {
      "text/plain": [
       "19"
      ]
     },
     "execution_count": 15,
     "metadata": {},
     "output_type": "execute_result"
    }
   ],
   "source": [
    "max(l1[2])"
   ]
  },
  {
   "cell_type": "code",
   "execution_count": 16,
   "metadata": {},
   "outputs": [],
   "source": [
    "#Question 3\n",
    "para='It gives me great pleasure to be here for the 64th annual convocation of the Indian Institute of Technology, Kharagpur. This is a pioneering institute. It was the first of the IITs in our country and in a sense marked the beginning of technical and engineering education after Independence. A convocation ceremony is a landmark for any academic institution. This is a day of reward for years of hard work by the approximately 2,500 students who are graduating today. I must also mention the efforts and sacrifices of their professors and teachers, and their family members. I congratulate all of you and wish you the very best as you step into a world that is defined, driven and developed by technology. I have no doubt that you will contribute to making this world a better place, both professionally and personally, with your education and with your empathy for fellow human beings. IIT Kharagpur has its origins in a committee that was set up by the government shortly after Independence to take stock of technical education. The committee was headed by the British Nobel laureate Dr A.V. Hill. Dr Hill recommended the setting up of an institution modelled on the pattern of MIT in the United States. The result is the Institute we are in today. The use of global experts to conceive this Institute was appropriate. Over the years, IIT Kharagpur and in fact the IIT network and community has become an important window to the world. This is in keeping with our country’s and our civilisation’s character. Exchange of ideas, of expertise, of knowledge – across fields, from engineering to economics, from medicine to management – has contributed to our policy choices and our people’s development. We must continue to celebrate this. The IIT Kharagpur community is a prized resource for India and for the world. As graduating students will soon realise, the IIT Kharagpur brand name and the reputation built by the achievements of generations of illustrious alumni will accompany you wherever you go. You are now part of a transcontinental talent pool that has added value to technology and wealth creation and, above all, to human lives. Your Institute took a major step towards strengthening India’s global academic linkages when it started the International Summer Winter Term Programme. Later the Ministry of Human Resource Development expanded this in the form of the Global Initiative of Academic Networks or GIAN. IIT Kharagpur is the largest member of the IIT family. It has the maximum number of academic units, students and faculty members. It was also the first to diversify and enlarge the ambit of the IIT system from just pure sciences and engineering. IIT Kharagpur was the first to establish a business school, a law school and a medical school. The campus today boasts a Science and Technology Entrepreneurship Park, a Petroleum Engineering Centre, and even a Centre for the Science of Happiness. One day I would like to visit it. Many of these schools and centres were established due to endowments and efforts of alumni. The alumni community’s affection for and continued association with IIT Kharagpur is a role model for other educational institutions'"
   ]
  },
  {
   "cell_type": "code",
   "execution_count": 17,
   "metadata": {},
   "outputs": [],
   "source": [
    "from collections import Counter\n"
   ]
  },
  {
   "cell_type": "code",
   "execution_count": 22,
   "metadata": {},
   "outputs": [],
   "source": [
    "frequency=Counter(para.split())"
   ]
  },
  {
   "cell_type": "code",
   "execution_count": 23,
   "metadata": {},
   "outputs": [
    {
     "data": {
      "text/plain": [
       "Counter({'It': 4,\n",
       "         'gives': 1,\n",
       "         'me': 1,\n",
       "         'great': 1,\n",
       "         'pleasure': 1,\n",
       "         'to': 15,\n",
       "         'be': 1,\n",
       "         'here': 1,\n",
       "         'for': 9,\n",
       "         'the': 33,\n",
       "         '64th': 1,\n",
       "         'annual': 1,\n",
       "         'convocation': 2,\n",
       "         'of': 27,\n",
       "         'Indian': 1,\n",
       "         'Institute': 4,\n",
       "         'Technology,': 1,\n",
       "         'Kharagpur.': 1,\n",
       "         'This': 3,\n",
       "         'is': 9,\n",
       "         'a': 17,\n",
       "         'pioneering': 1,\n",
       "         'institute.': 1,\n",
       "         'was': 6,\n",
       "         'first': 3,\n",
       "         'IITs': 1,\n",
       "         'in': 8,\n",
       "         'our': 5,\n",
       "         'country': 1,\n",
       "         'and': 25,\n",
       "         'sense': 1,\n",
       "         'marked': 1,\n",
       "         'beginning': 1,\n",
       "         'technical': 2,\n",
       "         'engineering': 2,\n",
       "         'education': 2,\n",
       "         'after': 2,\n",
       "         'Independence.': 1,\n",
       "         'A': 1,\n",
       "         'ceremony': 1,\n",
       "         'landmark': 1,\n",
       "         'any': 1,\n",
       "         'academic': 3,\n",
       "         'institution.': 1,\n",
       "         'day': 2,\n",
       "         'reward': 1,\n",
       "         'years': 1,\n",
       "         'hard': 1,\n",
       "         'work': 1,\n",
       "         'by': 5,\n",
       "         'approximately': 1,\n",
       "         '2,500': 1,\n",
       "         'students': 3,\n",
       "         'who': 1,\n",
       "         'are': 3,\n",
       "         'graduating': 2,\n",
       "         'today.': 2,\n",
       "         'I': 4,\n",
       "         'must': 2,\n",
       "         'also': 2,\n",
       "         'mention': 1,\n",
       "         'efforts': 2,\n",
       "         'sacrifices': 1,\n",
       "         'their': 2,\n",
       "         'professors': 1,\n",
       "         'teachers,': 1,\n",
       "         'family': 1,\n",
       "         'members.': 2,\n",
       "         'congratulate': 1,\n",
       "         'all': 1,\n",
       "         'you': 6,\n",
       "         'wish': 1,\n",
       "         'very': 1,\n",
       "         'best': 1,\n",
       "         'as': 1,\n",
       "         'step': 2,\n",
       "         'into': 1,\n",
       "         'world': 2,\n",
       "         'that': 4,\n",
       "         'defined,': 1,\n",
       "         'driven': 1,\n",
       "         'developed': 1,\n",
       "         'technology.': 1,\n",
       "         'have': 1,\n",
       "         'no': 1,\n",
       "         'doubt': 1,\n",
       "         'will': 3,\n",
       "         'contribute': 1,\n",
       "         'making': 1,\n",
       "         'this': 3,\n",
       "         'better': 1,\n",
       "         'place,': 1,\n",
       "         'both': 1,\n",
       "         'professionally': 1,\n",
       "         'personally,': 1,\n",
       "         'with': 4,\n",
       "         'your': 2,\n",
       "         'empathy': 1,\n",
       "         'fellow': 1,\n",
       "         'human': 2,\n",
       "         'beings.': 1,\n",
       "         'IIT': 10,\n",
       "         'Kharagpur': 7,\n",
       "         'has': 5,\n",
       "         'its': 1,\n",
       "         'origins': 1,\n",
       "         'committee': 2,\n",
       "         'set': 1,\n",
       "         'up': 2,\n",
       "         'government': 1,\n",
       "         'shortly': 1,\n",
       "         'Independence': 1,\n",
       "         'take': 1,\n",
       "         'stock': 1,\n",
       "         'education.': 1,\n",
       "         'The': 6,\n",
       "         'headed': 1,\n",
       "         'British': 1,\n",
       "         'Nobel': 1,\n",
       "         'laureate': 1,\n",
       "         'Dr': 2,\n",
       "         'A.V.': 1,\n",
       "         'Hill.': 1,\n",
       "         'Hill': 1,\n",
       "         'recommended': 1,\n",
       "         'setting': 1,\n",
       "         'an': 2,\n",
       "         'institution': 1,\n",
       "         'modelled': 1,\n",
       "         'on': 1,\n",
       "         'pattern': 1,\n",
       "         'MIT': 1,\n",
       "         'United': 1,\n",
       "         'States.': 1,\n",
       "         'result': 1,\n",
       "         'we': 1,\n",
       "         'use': 1,\n",
       "         'global': 2,\n",
       "         'experts': 1,\n",
       "         'conceive': 1,\n",
       "         'appropriate.': 1,\n",
       "         'Over': 1,\n",
       "         'years,': 1,\n",
       "         'fact': 1,\n",
       "         'network': 1,\n",
       "         'community': 2,\n",
       "         'become': 1,\n",
       "         'important': 1,\n",
       "         'window': 1,\n",
       "         'world.': 2,\n",
       "         'keeping': 1,\n",
       "         'country’s': 1,\n",
       "         'civilisation’s': 1,\n",
       "         'character.': 1,\n",
       "         'Exchange': 1,\n",
       "         'ideas,': 1,\n",
       "         'expertise,': 1,\n",
       "         'knowledge': 1,\n",
       "         '–': 2,\n",
       "         'across': 1,\n",
       "         'fields,': 1,\n",
       "         'from': 3,\n",
       "         'economics,': 1,\n",
       "         'medicine': 1,\n",
       "         'management': 1,\n",
       "         'contributed': 1,\n",
       "         'policy': 1,\n",
       "         'choices': 1,\n",
       "         'people’s': 1,\n",
       "         'development.': 1,\n",
       "         'We': 1,\n",
       "         'continue': 1,\n",
       "         'celebrate': 1,\n",
       "         'this.': 1,\n",
       "         'prized': 1,\n",
       "         'resource': 1,\n",
       "         'India': 1,\n",
       "         'As': 1,\n",
       "         'soon': 1,\n",
       "         'realise,': 1,\n",
       "         'brand': 1,\n",
       "         'name': 1,\n",
       "         'reputation': 1,\n",
       "         'built': 1,\n",
       "         'achievements': 1,\n",
       "         'generations': 1,\n",
       "         'illustrious': 1,\n",
       "         'alumni': 2,\n",
       "         'accompany': 1,\n",
       "         'wherever': 1,\n",
       "         'go.': 1,\n",
       "         'You': 1,\n",
       "         'now': 1,\n",
       "         'part': 1,\n",
       "         'transcontinental': 1,\n",
       "         'talent': 1,\n",
       "         'pool': 1,\n",
       "         'added': 1,\n",
       "         'value': 1,\n",
       "         'technology': 1,\n",
       "         'wealth': 1,\n",
       "         'creation': 1,\n",
       "         'and,': 1,\n",
       "         'above': 1,\n",
       "         'all,': 1,\n",
       "         'lives.': 1,\n",
       "         'Your': 1,\n",
       "         'took': 1,\n",
       "         'major': 1,\n",
       "         'towards': 1,\n",
       "         'strengthening': 1,\n",
       "         'India’s': 1,\n",
       "         'linkages': 1,\n",
       "         'when': 1,\n",
       "         'it': 1,\n",
       "         'started': 1,\n",
       "         'International': 1,\n",
       "         'Summer': 1,\n",
       "         'Winter': 1,\n",
       "         'Term': 1,\n",
       "         'Programme.': 1,\n",
       "         'Later': 1,\n",
       "         'Ministry': 1,\n",
       "         'Human': 1,\n",
       "         'Resource': 1,\n",
       "         'Development': 1,\n",
       "         'expanded': 1,\n",
       "         'form': 1,\n",
       "         'Global': 1,\n",
       "         'Initiative': 1,\n",
       "         'Academic': 1,\n",
       "         'Networks': 1,\n",
       "         'or': 1,\n",
       "         'GIAN.': 1,\n",
       "         'largest': 1,\n",
       "         'member': 1,\n",
       "         'family.': 1,\n",
       "         'maximum': 1,\n",
       "         'number': 1,\n",
       "         'units,': 1,\n",
       "         'faculty': 1,\n",
       "         'diversify': 1,\n",
       "         'enlarge': 1,\n",
       "         'ambit': 1,\n",
       "         'system': 1,\n",
       "         'just': 1,\n",
       "         'pure': 1,\n",
       "         'sciences': 1,\n",
       "         'engineering.': 1,\n",
       "         'establish': 1,\n",
       "         'business': 1,\n",
       "         'school,': 1,\n",
       "         'law': 1,\n",
       "         'school': 1,\n",
       "         'medical': 1,\n",
       "         'school.': 1,\n",
       "         'campus': 1,\n",
       "         'today': 1,\n",
       "         'boasts': 1,\n",
       "         'Science': 2,\n",
       "         'Technology': 1,\n",
       "         'Entrepreneurship': 1,\n",
       "         'Park,': 1,\n",
       "         'Petroleum': 1,\n",
       "         'Engineering': 1,\n",
       "         'Centre,': 1,\n",
       "         'even': 1,\n",
       "         'Centre': 1,\n",
       "         'Happiness.': 1,\n",
       "         'One': 1,\n",
       "         'would': 1,\n",
       "         'like': 1,\n",
       "         'visit': 1,\n",
       "         'it.': 1,\n",
       "         'Many': 1,\n",
       "         'these': 1,\n",
       "         'schools': 1,\n",
       "         'centres': 1,\n",
       "         'were': 1,\n",
       "         'established': 1,\n",
       "         'due': 1,\n",
       "         'endowments': 1,\n",
       "         'alumni.': 1,\n",
       "         'community’s': 1,\n",
       "         'affection': 1,\n",
       "         'continued': 1,\n",
       "         'association': 1,\n",
       "         'role': 1,\n",
       "         'model': 1,\n",
       "         'other': 1,\n",
       "         'educational': 1,\n",
       "         'institutions': 1})"
      ]
     },
     "execution_count": 23,
     "metadata": {},
     "output_type": "execute_result"
    }
   ],
   "source": [
    "frequency"
   ]
  },
  {
   "cell_type": "code",
   "execution_count": 24,
   "metadata": {},
   "outputs": [
    {
     "data": {
      "text/plain": [
       "[('to', 15), ('the', 33), ('of', 27), ('a', 17), ('and', 25)]"
      ]
     },
     "execution_count": 24,
     "metadata": {},
     "output_type": "execute_result"
    }
   ],
   "source": [
    "[(u,v) for u,v in frequency.items() if v>10]\n"
   ]
  },
  {
   "cell_type": "code",
   "execution_count": 36,
   "metadata": {},
   "outputs": [
    {
     "data": {
      "text/plain": [
       "[('the', 33), ('of', 27), ('and', 25), ('a', 17), ('to', 15)]"
      ]
     },
     "execution_count": 36,
     "metadata": {},
     "output_type": "execute_result"
    }
   ],
   "source": [
    "#Question 4\n",
    "Counter(para.split()).most_common(5)"
   ]
  },
  {
   "cell_type": "code",
   "execution_count": 25,
   "metadata": {},
   "outputs": [],
   "source": [
    "from collections import defaultdict\n"
   ]
  },
  {
   "cell_type": "code",
   "execution_count": 26,
   "metadata": {},
   "outputs": [],
   "source": [
    "from collections import OrderedDict"
   ]
  },
  {
   "cell_type": "code",
   "execution_count": 31,
   "metadata": {},
   "outputs": [],
   "source": [
    "od=OrderedDict()"
   ]
  },
  {
   "cell_type": "code",
   "execution_count": 34,
   "metadata": {},
   "outputs": [],
   "source": [
    "od['a']=[1,2,3,4,5]\n",
    "od['b']=[11,27,38,44,57]\n",
    "od['c']=[19,435,324,12]"
   ]
  },
  {
   "cell_type": "code",
   "execution_count": 35,
   "metadata": {},
   "outputs": [
    {
     "data": {
      "text/plain": [
       "OrderedDict([('a', [1, 2, 3, 4, 5]),\n",
       "             ('b', [11, 27, 38, 44, 57]),\n",
       "             ('c', [19, 435, 324, 12])])"
      ]
     },
     "execution_count": 35,
     "metadata": {},
     "output_type": "execute_result"
    }
   ],
   "source": [
    "od"
   ]
  },
  {
   "cell_type": "code",
   "execution_count": 37,
   "metadata": {},
   "outputs": [
    {
     "data": {
      "text/plain": [
       "('c', [19, 435, 324, 12])"
      ]
     },
     "execution_count": 37,
     "metadata": {},
     "output_type": "execute_result"
    }
   ],
   "source": [
    "od.popitem()"
   ]
  },
  {
   "cell_type": "code",
   "execution_count": 38,
   "metadata": {},
   "outputs": [],
   "source": [
    "#Question 5\n",
    "import pandas as pd"
   ]
  },
  {
   "cell_type": "code",
   "execution_count": 39,
   "metadata": {},
   "outputs": [],
   "source": [
    "d = {'col1': [1, 2,3,5,6,7,8], 'col2': [3.0, 4.0, 12.5,4,56,7, 5]}"
   ]
  },
  {
   "cell_type": "code",
   "execution_count": 40,
   "metadata": {},
   "outputs": [
    {
     "data": {
      "text/plain": [
       "{'col1': [1, 2, 3, 5, 6, 7, 8], 'col2': [3.0, 4.0, 12.5, 4, 56, 7, 5]}"
      ]
     },
     "execution_count": 40,
     "metadata": {},
     "output_type": "execute_result"
    }
   ],
   "source": [
    "d"
   ]
  },
  {
   "cell_type": "code",
   "execution_count": 41,
   "metadata": {},
   "outputs": [],
   "source": [
    "df = pd.DataFrame(data=d)"
   ]
  },
  {
   "cell_type": "code",
   "execution_count": 42,
   "metadata": {},
   "outputs": [
    {
     "data": {
      "text/html": [
       "<div>\n",
       "<style scoped>\n",
       "    .dataframe tbody tr th:only-of-type {\n",
       "        vertical-align: middle;\n",
       "    }\n",
       "\n",
       "    .dataframe tbody tr th {\n",
       "        vertical-align: top;\n",
       "    }\n",
       "\n",
       "    .dataframe thead th {\n",
       "        text-align: right;\n",
       "    }\n",
       "</style>\n",
       "<table border=\"1\" class=\"dataframe\">\n",
       "  <thead>\n",
       "    <tr style=\"text-align: right;\">\n",
       "      <th></th>\n",
       "      <th>col1</th>\n",
       "      <th>col2</th>\n",
       "    </tr>\n",
       "  </thead>\n",
       "  <tbody>\n",
       "    <tr>\n",
       "      <th>0</th>\n",
       "      <td>1</td>\n",
       "      <td>3.0</td>\n",
       "    </tr>\n",
       "    <tr>\n",
       "      <th>1</th>\n",
       "      <td>2</td>\n",
       "      <td>4.0</td>\n",
       "    </tr>\n",
       "    <tr>\n",
       "      <th>2</th>\n",
       "      <td>3</td>\n",
       "      <td>12.5</td>\n",
       "    </tr>\n",
       "    <tr>\n",
       "      <th>3</th>\n",
       "      <td>5</td>\n",
       "      <td>4.0</td>\n",
       "    </tr>\n",
       "    <tr>\n",
       "      <th>4</th>\n",
       "      <td>6</td>\n",
       "      <td>56.0</td>\n",
       "    </tr>\n",
       "    <tr>\n",
       "      <th>5</th>\n",
       "      <td>7</td>\n",
       "      <td>7.0</td>\n",
       "    </tr>\n",
       "    <tr>\n",
       "      <th>6</th>\n",
       "      <td>8</td>\n",
       "      <td>5.0</td>\n",
       "    </tr>\n",
       "  </tbody>\n",
       "</table>\n",
       "</div>"
      ],
      "text/plain": [
       "   col1  col2\n",
       "0     1   3.0\n",
       "1     2   4.0\n",
       "2     3  12.5\n",
       "3     5   4.0\n",
       "4     6  56.0\n",
       "5     7   7.0\n",
       "6     8   5.0"
      ]
     },
     "execution_count": 42,
     "metadata": {},
     "output_type": "execute_result"
    }
   ],
   "source": [
    "df"
   ]
  },
  {
   "cell_type": "code",
   "execution_count": 49,
   "metadata": {},
   "outputs": [
    {
     "data": {
      "text/plain": [
       "4.0"
      ]
     },
     "execution_count": 49,
     "metadata": {},
     "output_type": "execute_result"
    }
   ],
   "source": [
    "df.iloc[1]['col2']"
   ]
  },
  {
   "cell_type": "code",
   "execution_count": 55,
   "metadata": {},
   "outputs": [
    {
     "name": "stdout",
     "output_type": "stream",
     "text": [
      "1.0 3.0\n",
      "2.0 4.0\n",
      "3.0 12.5\n",
      "5.0 4.0\n",
      "6.0 56.0\n",
      "7.0 7.0\n",
      "8.0 5.0\n"
     ]
    }
   ],
   "source": [
    "for index, row in df.iterrows():\n",
    "    print(row['col1'], row['col2'])\n",
    "\n"
   ]
  }
 ],
 "metadata": {
  "kernelspec": {
   "display_name": "Python 3",
   "language": "python",
   "name": "python3"
  },
  "language_info": {
   "codemirror_mode": {
    "name": "ipython",
    "version": 3
   },
   "file_extension": ".py",
   "mimetype": "text/x-python",
   "name": "python",
   "nbconvert_exporter": "python",
   "pygments_lexer": "ipython3",
   "version": "3.6.5"
  }
 },
 "nbformat": 4,
 "nbformat_minor": 2
}
