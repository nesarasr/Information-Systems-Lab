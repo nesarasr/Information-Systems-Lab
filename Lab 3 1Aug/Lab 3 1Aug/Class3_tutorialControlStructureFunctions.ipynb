{
 "cells": [
  {
   "cell_type": "markdown",
   "metadata": {},
   "source": [
    "# Structured programming \n",
    "##  a programming paradigm aimed at improving the clarity, quality, and development time of a computer program by making extensive use of block structures such as loops, fuctions etc. \n",
    "## Three basic concepts:    Sequence, Selection, Iteration\n",
    "## Control Flow Structures in Python https://docs.python.org/3/tutorial/controlflow.html\n"
   ]
  },
  {
   "cell_type": "markdown",
   "metadata": {},
   "source": [
    "## Selection structure in Python: The IF statement\n",
    "-  if boolean_expression 1:\n",
    "- >   suite1\n",
    "-  elif boolean_expression 2:\n",
    "- >  suite2\n",
    "-  \t...\n",
    "-  elif boolean_expression N:\n",
    "- >  suiteN\n",
    "-  else:\n",
    "- >  else_suite"
   ]
  },
  {
   "cell_type": "code",
   "execution_count": 5,
   "metadata": {},
   "outputs": [
    {
     "name": "stdout",
     "output_type": "stream",
     "text": [
      "Please enter an integer: 27\n",
      "Divisible by 3\n"
     ]
    }
   ],
   "source": [
    "x = int(input(\"Please enter an integer: \"))\n",
    "\n",
    "if x%2 == 0:\n",
    "    x = 0\n",
    "    print('Divisible by 2')\n",
    "elif x%3==0:\n",
    "    print('Divisible by 3')\n",
    "else:\n",
    "    print('Not divisible by 2 or 3')"
   ]
  },
  {
   "cell_type": "markdown",
   "metadata": {},
   "source": [
    "# LOOPS\n",
    "\n",
    "## while loop\n",
    "\n",
    "#### Repeats a statement or group of statements while a given condition is TRUE. It tests the condition before executing the \n",
    "- while boolean_expression:\n",
    "- > suite\n"
   ]
  },
  {
   "cell_type": "markdown",
   "metadata": {},
   "source": [
    "## for loop\n",
    "#### Executes a sequence of statements multiple times and abbreviates the code that manages the loop variable. The for statement is used to iterate over the elements of a sequence (such as a string, tuple or list) or other iterable object:\n",
    "- for variable in iterable:\n",
    "- > suite"
   ]
  },
  {
   "cell_type": "markdown",
   "metadata": {},
   "source": [
    "# Loop Control Statements\n",
    "- break: Jumps out of the closest enclosing loop\n",
    "- continue: Skip the rest of the code inside a loop for the current iteration only\n",
    "- pass: Does nothing, empty statement placeholder\n"
   ]
  },
  {
   "cell_type": "code",
   "execution_count": 23,
   "metadata": {},
   "outputs": [
    {
     "name": "stdout",
     "output_type": "stream",
     "text": [
      "cat 3\n",
      "window 6\n",
      "defenestrate 12\n"
     ]
    }
   ],
   "source": [
    "words = ['cat', 'window', 'defenestrate']\n",
    "for w in words:\n",
    "       print(w, len(w))\n",
    "      \n"
   ]
  },
  {
   "cell_type": "code",
   "execution_count": 20,
   "metadata": {},
   "outputs": [
    {
     "name": "stdout",
     "output_type": "stream",
     "text": [
      "5\n"
     ]
    }
   ],
   "source": [
    "st='the gugugugu'\n",
    "x=len(st)\n",
    "w=0\n",
    "for i in range(0,x):\n",
    "    a=st[i]\n",
    "    if a=='a' or a=='e' or a=='i' or a=='o' or a=='u':\n",
    "        w=w+1\n",
    "print(w)"
   ]
  },
  {
   "cell_type": "code",
   "execution_count": 22,
   "metadata": {},
   "outputs": [
    {
     "name": "stdout",
     "output_type": "stream",
     "text": [
      "1\n"
     ]
    }
   ],
   "source": [
    "x=1\n",
    "while x<5:\n",
    "    print(x)\n",
    "    x=x+1\n",
    "    break\n",
    "else:\n",
    "    print('I got here') \n"
   ]
  },
  {
   "cell_type": "code",
   "execution_count": 6,
   "metadata": {},
   "outputs": [
    {
     "name": "stdout",
     "output_type": "stream",
     "text": [
      "3\n",
      "4\n",
      "5\n",
      "I got here\n"
     ]
    }
   ],
   "source": [
    "x=1\n",
    "while x<5:\n",
    "    x=x+1\n",
    "    if x==2:\n",
    "        continue\n",
    "    print(x)\n",
    "else:\n",
    "    print('I got here') \n"
   ]
  },
  {
   "cell_type": "code",
   "execution_count": null,
   "metadata": {
    "collapsed": true
   },
   "outputs": [],
   "source": [
    "while True:  #wait till ctrl C\n",
    "     pass"
   ]
  },
  {
   "cell_type": "markdown",
   "metadata": {},
   "source": [
    "# Function \n",
    "- Function is a group of related statements that perform a specific task. \n",
    "- Break our program into smaller and modular chucks.\n",
    "- As functions make large programs more organized and manageable. \n",
    "- Furthermore, it avoids repetition and makes code reusable.\n",
    "\n",
    "# Function Definition\n",
    "- Keyword def marks the start of function header.\n",
    "- A function has a name to uniquely identify it. Function naming follows the same rules of writing identifier in python.\n",
    "- Through parameters (arguments) we pass values to a function. They are optional.\n",
    "- A colon (:) to mark the end of function header.\n",
    "- Optional documentation string (docstring) to describe what the function does.\n",
    "- One or more valid python statements that make up the function body. Statements must have same indentation level (usually 4 spaces).\n",
    "- An optional return statement to return a value from the function.\n"
   ]
  },
  {
   "cell_type": "code",
   "execution_count": 36,
   "metadata": {},
   "outputs": [
    {
     "name": "stdout",
     "output_type": "stream",
     "text": [
      "0 1 1 2 3 5 8 "
     ]
    }
   ],
   "source": [
    "def check(n):\n",
    "       pass\n",
    "def fib(n):    # write Fibonacci series up to n\n",
    "    \"\"\"Print a Fibonacci series up to n.\"\"\"\n",
    "    a=0\n",
    "    b=1\n",
    "    while a < n:\n",
    "        print(a, end=' ')\n",
    "        a, b = b, a+b\n",
    "        if check(a):\n",
    "            print(a)\n",
    "\n",
    "fib(10)\n"
   ]
  },
  {
   "cell_type": "code",
   "execution_count": 28,
   "metadata": {},
   "outputs": [
    {
     "data": {
      "text/plain": [
       "24"
      ]
     },
     "execution_count": 28,
     "metadata": {},
     "output_type": "execute_result"
    }
   ],
   "source": [
    "def fact(n):    #factorial of n\n",
    "    if n<=1:\n",
    "        return n\n",
    "    else :\n",
    "        return n*fact(n-1)\n",
    "x=4\n",
    "fact(x)"
   ]
  },
  {
   "cell_type": "markdown",
   "metadata": {},
   "source": [
    "## Lambda Expressions\n",
    "\n",
    "### In Python, we use the lambda keyword to declare an anonymous function Lambda functions can be used wherever function objects are required. They are syntactically restricted to a single expression. They are written inline manner."
   ]
  },
  {
   "cell_type": "code",
   "execution_count": 26,
   "metadata": {},
   "outputs": [
    {
     "name": "stdout",
     "output_type": "stream",
     "text": [
      "[(1, 'one'), (2, 'two'), (3, 'three'), (4, 'four')]\n",
      "[(4, 'four'), (1, 'one'), (3, 'three'), (2, 'two')]\n"
     ]
    }
   ],
   "source": [
    "pairs = [(1, 'one'), (2, 'two'), (3, 'three'), (4, 'four')]\n",
    "print(pairs)\n",
    "pairs.sort(key=lambda x: x[1])\n",
    "print(pairs)\n",
    "\n",
    "#Tuple sorted alphbetically"
   ]
  },
  {
   "cell_type": "markdown",
   "metadata": {},
   "source": [
    "## Default Argument Values\n",
    "\n",
    "### The most useful form is to specify a default value for one or more arguments. This creates a function that can be called with fewer arguments than it is defined to allow. For example:"
   ]
  },
  {
   "cell_type": "code",
   "execution_count": 42,
   "metadata": {},
   "outputs": [
    {
     "name": "stdout",
     "output_type": "stream",
     "text": [
      "Do you really want to quit?yyyy\n",
      "Please try again!\n",
      "Do you really want to quit?fh\n",
      "Please try again!\n",
      "Do you really want to quit?jk\n",
      "Please try again!\n",
      "Do you really want to quit?yes\n"
     ]
    },
    {
     "data": {
      "text/plain": [
       "True"
      ]
     },
     "execution_count": 42,
     "metadata": {},
     "output_type": "execute_result"
    }
   ],
   "source": [
    "def ask_ok(prompt, retries=4, reminder='Please try again!'):\n",
    "    while True:\n",
    "        ok = input(prompt)\n",
    "        if ok in ('y', 'ye', 'yes'):\n",
    "            return True\n",
    "        if ok in ('n', 'no', 'nop', 'nope'):\n",
    "            return False\n",
    "        retries = retries - 1\n",
    "        if retries < 0:\n",
    "            raise ValueError('invalid user response')\n",
    "        print(reminder)\n",
    "ask_ok('Do you really want to quit?')"
   ]
  },
  {
   "cell_type": "code",
   "execution_count": 43,
   "metadata": {},
   "outputs": [],
   "source": [
    "p='doom'\n",
    "if p in ('dooom'):\n",
    "    print('yesss')"
   ]
  },
  {
   "cell_type": "markdown",
   "metadata": {},
   "source": [
    "## Keyword Arguments\n",
    "\n",
    "### Functions can also be called using keyword arguments of the form kwarg=value. For instance, the following function:"
   ]
  },
  {
   "cell_type": "code",
   "execution_count": 48,
   "metadata": {},
   "outputs": [
    {
     "name": "stdout",
     "output_type": "stream",
     "text": [
      "-- This parrot wouldn't voom if you put 5.0 volts through it.\n",
      "-- Lovely plumage, the Norwegian Blue\n",
      "-- It's a stiff !\n"
     ]
    }
   ],
   "source": [
    "def parrot(voltage, state='a stiff', action='voom', type='Norwegian Blue'):\n",
    "    print(\"-- This parrot wouldn't\", action, end=' ')\n",
    "    print(\"if you put\", voltage, \"volts through it.\")\n",
    "    print(\"-- Lovely plumage, the\", type)\n",
    "    print(\"-- It's\", state, \"!\")\n",
    "#parrot()                     # required argument missing\n",
    "parrot(voltage=5.0)  # non-keyword argument after a keyword argument\n",
    "#parrot(110, voltage=220)     # duplicate value for the same argument\n",
    "#parrot(actor='John Cleese')  # unknown keyword argument"
   ]
  },
  {
   "cell_type": "markdown",
   "metadata": {},
   "source": [
    "## Arbitrary Argument Lists\n",
    "\n",
    "### Finally, the least frequently used option is to specify that a function can be called with an arbitrary number of arguments. These arguments will be wrapped up in a tuple"
   ]
  },
  {
   "cell_type": "code",
   "execution_count": 51,
   "metadata": {},
   "outputs": [
    {
     "name": "stdout",
     "output_type": "stream",
     "text": [
      "earth/sun/moon\n",
      "earth.mars.venus\n"
     ]
    }
   ],
   "source": [
    "def concat(*args, sep=\"/\"):\n",
    "    return sep.join(args)\n",
    "\n",
    "print(concat(\"earth\",\"sun\",\"moon\"))\n",
    "print(concat(\"earth\", \"mars\", \"venus\", sep=\".\"))"
   ]
  },
  {
   "cell_type": "markdown",
   "metadata": {},
   "source": [
    "## Documentation String\n",
    "\n",
    "### If there are more lines in the documentation string, the second line should be blank, visually separating the summary from the rest of the description. The following lines should be one or more paragraphs describing the object’s calling conventions, its side effects, etc."
   ]
  },
  {
   "cell_type": "code",
   "execution_count": 39,
   "metadata": {},
   "outputs": [
    {
     "name": "stdout",
     "output_type": "stream",
     "text": [
      " Do nothing, but document it.\n",
      "\n",
      "         No, really, it doesn't do anything.\n",
      "      \n"
     ]
    }
   ],
   "source": [
    "def my_function():\n",
    "      \"\"\" Do nothing, but document it.\n",
    "\n",
    "         No, really, it doesn't do anything.\n",
    "      \"\"\"\n",
    "pass\n",
    "\n",
    "print(my_function.__doc__)\n"
   ]
  },
  {
   "cell_type": "code",
   "execution_count": null,
   "metadata": {
    "collapsed": true
   },
   "outputs": [],
   "source": []
  }
 ],
 "metadata": {
  "kernelspec": {
   "display_name": "Python 3",
   "language": "python",
   "name": "python3"
  },
  "language_info": {
   "codemirror_mode": {
    "name": "ipython",
    "version": 3
   },
   "file_extension": ".py",
   "mimetype": "text/x-python",
   "name": "python",
   "nbconvert_exporter": "python",
   "pygments_lexer": "ipython3",
   "version": "3.6.5"
  }
 },
 "nbformat": 4,
 "nbformat_minor": 2
}
